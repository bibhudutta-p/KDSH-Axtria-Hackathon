{
 "cells": [
  {
   "cell_type": "code",
   "execution_count": 86,
   "metadata": {
    "execution": {
     "iopub.execute_input": "2022-12-27T17:15:42.934154Z",
     "iopub.status.busy": "2022-12-27T17:15:42.933723Z",
     "iopub.status.idle": "2022-12-27T17:15:42.940352Z",
     "shell.execute_reply": "2022-12-27T17:15:42.939397Z",
     "shell.execute_reply.started": "2022-12-27T17:15:42.934121Z"
    }
   },
   "outputs": [],
   "source": [
    "import pandas as pd\n",
    "import numpy as np\n",
    "import matplotlib.pyplot as plt\n",
    "import seaborn as sns\n",
    "import warnings\n",
    "warnings.filterwarnings(action = 'ignore')\n",
    "pd.set_option('Display.max_rows', None)"
   ]
  },
  {
   "cell_type": "code",
   "execution_count": 87,
   "metadata": {
    "execution": {
     "iopub.execute_input": "2022-12-27T17:15:43.445027Z",
     "iopub.status.busy": "2022-12-27T17:15:43.443846Z",
     "iopub.status.idle": "2022-12-27T17:15:44.084271Z",
     "shell.execute_reply": "2022-12-27T17:15:44.082671Z",
     "shell.execute_reply.started": "2022-12-27T17:15:43.444984Z"
    }
   },
   "outputs": [],
   "source": [
    "df1 = pd.read_csv('/kaggle/input/physicians/Physician.csv').drop(['Unnamed: 0'], axis=1)\n",
    "# df2 = pd.read_excel('/kaggle/input/physician/Patient_Data_KDAG_Hackathon.xlsx')\n",
    "# df = pd.read_csv('/kaggle/input/physicians/Physician.csv').drop(['Time_Period', 'Unnamed: 0', 'Market_Rx', 'Speaker_Programs_Attended', 'Vouchers_Dropped'], axis=1)"
   ]
  },
  {
   "cell_type": "code",
   "execution_count": 88,
   "metadata": {
    "execution": {
     "iopub.execute_input": "2022-12-27T17:15:44.354956Z",
     "iopub.status.busy": "2022-12-27T17:15:44.353882Z",
     "iopub.status.idle": "2022-12-27T17:15:44.359646Z",
     "shell.execute_reply": "2022-12-27T17:15:44.358264Z",
     "shell.execute_reply.started": "2022-12-27T17:15:44.354911Z"
    }
   },
   "outputs": [],
   "source": [
    "#DateTime Features\n",
    "# df1['Time_Period'] = pd.to_datetime(df1['Time_Period'], infer_datetime_format = True)\n",
    "# df2['Date_of_Visit'] = pd.to_datetime(df2['Date_of_Visit'], infer_datetime_format = True)"
   ]
  },
  {
   "cell_type": "markdown",
   "metadata": {},
   "source": [
    "## Feature Engineering"
   ]
  },
  {
   "cell_type": "markdown",
   "metadata": {},
   "source": [
    "### Encoding"
   ]
  },
  {
   "cell_type": "code",
   "execution_count": 89,
   "metadata": {
    "execution": {
     "iopub.execute_input": "2022-12-27T17:15:48.822891Z",
     "iopub.status.busy": "2022-12-27T17:15:48.821626Z",
     "iopub.status.idle": "2022-12-27T17:15:49.241005Z",
     "shell.execute_reply": "2022-12-27T17:15:49.240046Z",
     "shell.execute_reply.started": "2022-12-27T17:15:48.822821Z"
    }
   },
   "outputs": [],
   "source": [
    "df1['Physician_Segment'].replace({'1-High':3, '2-Medium':2, '3-Low':1}, inplace= True)\n",
    "df1 = pd.concat([df1, pd.get_dummies(df1['Specialty'])], axis=1).drop(['Specialty'], axis=1)\n",
    "cols = list(df1.columns)\n",
    "cols.remove('Brand_Rx')\n",
    "df1 = df1[cols+['Brand_Rx']]"
   ]
  },
  {
   "cell_type": "code",
   "execution_count": 90,
   "metadata": {
    "execution": {
     "iopub.execute_input": "2022-12-27T17:15:50.454787Z",
     "iopub.status.busy": "2022-12-27T17:15:50.454115Z",
     "iopub.status.idle": "2022-12-27T17:15:50.476425Z",
     "shell.execute_reply": "2022-12-27T17:15:50.475296Z",
     "shell.execute_reply.started": "2022-12-27T17:15:50.454749Z"
    }
   },
   "outputs": [],
   "source": [
    "# df[df['Physician_ID'] == 'axt00001']\n",
    "df1 = df1.drop(['Time_Period', 'Physician_ID'], axis=1)\n",
    "# df1"
   ]
  },
  {
   "cell_type": "code",
   "execution_count": 56,
   "metadata": {
    "execution": {
     "iopub.execute_input": "2022-12-26T08:36:21.398820Z",
     "iopub.status.busy": "2022-12-26T08:36:21.398425Z",
     "iopub.status.idle": "2022-12-26T08:36:21.403559Z",
     "shell.execute_reply": "2022-12-26T08:36:21.402462Z",
     "shell.execute_reply.started": "2022-12-26T08:36:21.398787Z"
    }
   },
   "outputs": [],
   "source": [
    "# ids = df['Physician_ID'].unique()\n",
    "# for id in ids[:10]:\n",
    "#     hcp = df.loc[df['Physician_ID'] == id]\n",
    "# #     print(hcp)\n",
    "#     plt.figure()\n",
    "#     sns.heatmap(hcp.corr(), annot = True)\n",
    "#     plt.title(id)\n",
    "#     plt.show()\n",
    "#     print()"
   ]
  },
  {
   "cell_type": "markdown",
   "metadata": {},
   "source": [
    "Observations-\n",
    "1. For Some HCPs, Brand_Rx=0 even some/all of ['Sales_Rep_Calls', 'Samples_Dropped', 'Emails_Delivered'] are done.\n",
    "2. For some Brand_Rx > 0, even if none of ['Sales_Rep_Calls', 'Samples_Dropped', 'Emails_Delivered'] is done.\n",
    "3. For some Brand_Rx is negetively correlated with some/all of ['Sales_Rep_Calls', 'Samples_Dropped', 'Emails_Delivered']"
   ]
  },
  {
   "cell_type": "markdown",
   "metadata": {},
   "source": [
    "### Splitting And Scaling"
   ]
  },
  {
   "cell_type": "code",
   "execution_count": 92,
   "metadata": {
    "execution": {
     "iopub.execute_input": "2022-12-27T17:17:45.172761Z",
     "iopub.status.busy": "2022-12-27T17:17:45.172343Z",
     "iopub.status.idle": "2022-12-27T17:17:45.180976Z",
     "shell.execute_reply": "2022-12-27T17:17:45.179611Z",
     "shell.execute_reply.started": "2022-12-27T17:17:45.172726Z"
    }
   },
   "outputs": [],
   "source": [
    "X = df1.iloc[: :-1]\n",
    "y = df1.iloc[:, -1]\n",
    "from sklearn.model_selection import train_test_split\n",
    "# X_train, X_test, y_train, y_test = train_test_split(X, y, test_size=0.2, random_state=5)\n",
    "rows = X['Brand_Rx']<1\n",
    "# X_train = X_train.iloc[rows.values, :]\n",
    "# y_train = y_train.iloc[rows.values]\n",
    "# X_train.shape, y_train.shape, X_test.shape, y_test.shape"
   ]
  },
  {
   "cell_type": "code",
   "execution_count": 93,
   "metadata": {
    "execution": {
     "iopub.execute_input": "2022-12-27T17:17:45.775505Z",
     "iopub.status.busy": "2022-12-27T17:17:45.774214Z",
     "iopub.status.idle": "2022-12-27T17:17:45.820530Z",
     "shell.execute_reply": "2022-12-27T17:17:45.818890Z",
     "shell.execute_reply.started": "2022-12-27T17:17:45.775459Z"
    }
   },
   "outputs": [],
   "source": [
    "#for whole data\n",
    "X_train = X.iloc[rows.values, :]\n",
    "y_train = y.iloc[rows.values]"
   ]
  },
  {
   "cell_type": "code",
   "execution_count": 80,
   "metadata": {
    "execution": {
     "iopub.execute_input": "2022-12-27T16:57:29.145169Z",
     "iopub.status.busy": "2022-12-27T16:57:29.144662Z",
     "iopub.status.idle": "2022-12-27T16:57:29.244746Z",
     "shell.execute_reply": "2022-12-27T16:57:29.243377Z",
     "shell.execute_reply.started": "2022-12-27T16:57:29.145132Z"
    }
   },
   "outputs": [],
   "source": [
    "from sklearn.preprocessing import StandardScaler \n",
    "sc = StandardScaler()\n",
    "sc.fit(X_train)\n",
    "X_train_scaled = sc.transform(X_train)\n",
    "X_test_scaled = sc.transform(X_test)"
   ]
  },
  {
   "cell_type": "code",
   "execution_count": 37,
   "metadata": {
    "execution": {
     "iopub.execute_input": "2022-12-27T10:06:14.409018Z",
     "iopub.status.busy": "2022-12-27T10:06:14.408595Z",
     "iopub.status.idle": "2022-12-27T10:06:15.117458Z",
     "shell.execute_reply": "2022-12-27T10:06:15.116229Z",
     "shell.execute_reply.started": "2022-12-27T10:06:14.408985Z"
    }
   },
   "outputs": [],
   "source": [
    "#combining HCPS and Patients data\n",
    "# df1 = df1.sort_values(by = ['Physician_ID', 'Time_Period'])\n",
    "# df2 = df2.sort_values(by = ['Physician_ID', 'Date_of_Visit'])"
   ]
  },
  {
   "cell_type": "markdown",
   "metadata": {},
   "source": [
    "## Dealing with high bias\n",
    "If model is too simple:\n",
    "\n",
    "add more features (ie. better feature engineering),\n",
    "more sophisticated model\n",
    "decrease regularization\n",
    "In XGBoost you can do it by:\n",
    "\n",
    "increase depth of each tree (max_depth),\n",
    "decrease min_child_weight parameter,\n",
    "decrease gamma parameter,\n",
    "decrease lambda and alpha regularization parameters\n"
   ]
  },
  {
   "cell_type": "code",
   "execution_count": 54,
   "metadata": {
    "execution": {
     "iopub.execute_input": "2022-12-27T10:55:44.472789Z",
     "iopub.status.busy": "2022-12-27T10:55:44.472384Z",
     "iopub.status.idle": "2022-12-27T10:55:44.479467Z",
     "shell.execute_reply": "2022-12-27T10:55:44.478191Z",
     "shell.execute_reply.started": "2022-12-27T10:55:44.472756Z"
    }
   },
   "outputs": [],
   "source": [
    "# params_grid = {\n",
    "#     'max_depth': [6, 10],\n",
    "#     'min_child_weight':[0.2, 0.5],\n",
    "#     'eta': [0.6,0.8, 1],\n",
    "#     'learning_rate': np.linspace(1e-16, 1, 3)\n",
    "# }"
   ]
  },
  {
   "cell_type": "code",
   "execution_count": null,
   "metadata": {
    "_kg_hide-input": true,
    "_kg_hide-output": true
   },
   "outputs": [],
   "source": [
    "# df1n = df1.copy()\n",
    "# df1['count'] = 0 \n",
    "# df1['Age'] = 0\n",
    "# df1['males'] = 0\n",
    "# df1['females'] = 0\n",
    "# for i in range(1, len(df1)):\n",
    "#     count = 0\n",
    "#     age = 0\n",
    "#     males = 0\n",
    "#     flag=0\n",
    "#     for j in range(len(df2)):\n",
    "        \n",
    "#         if(df1['Physician_ID'].iloc[i] == df2['Physician_ID'].iloc[j] and df1['Time_Period'].iloc[i] >= df2['Date_of_Visit'].iloc[j] and df1['Time_Period'].iloc[i-1] < df2['Date_of_Visit'].iloc[j]):\n",
    "#             count += 1\n",
    "#             age += 2022-df2['Year of Birth'].iloc[j]\n",
    "#             if(df2['Gender'].iloc[j] == 'M'):\n",
    "#                 males += 1\n",
    "#             flag=1    \n",
    "#             print(count)\n",
    "#         else:\n",
    "#             if count==0:\n",
    "#                 df1['Age'].iloc[i] = 0\n",
    "#             else:\n",
    "#                 df1['Age'].iloc[i] = age/count\n",
    "#             df1['males'].iloc[i] = males\n",
    "#             df1['females'].iloc[i] = count - males\n",
    "#             if flag:\n",
    "#                 break\n",
    "           \n",
    "#     df1['count'].iloc[i] = count \n",
    "#     if i%10000==0:"
   ]
  },
  {
   "cell_type": "code",
   "execution_count": 59,
   "metadata": {
    "execution": {
     "iopub.execute_input": "2022-12-27T11:04:22.481263Z",
     "iopub.status.busy": "2022-12-27T11:04:22.480850Z",
     "iopub.status.idle": "2022-12-27T11:04:22.486992Z",
     "shell.execute_reply": "2022-12-27T11:04:22.486173Z",
     "shell.execute_reply.started": "2022-12-27T11:04:22.481230Z"
    }
   },
   "outputs": [],
   "source": [
    "# from xgboost import XGBRegressor\n",
    "# # from sklearn.metrics import mean_squared_error\n",
    "# from sklearn.model_selection import GridSearchCV\n",
    "# bst_grid = GridSearchCV(\n",
    "#     estimator=xgb,\n",
    "#     param_grid=params_grid,\n",
    "#     cv=5,\n",
    "#     scoring='neg_mean_squared_error'\n",
    "# )"
   ]
  },
  {
   "cell_type": "markdown",
   "metadata": {},
   "source": [
    "### Model Building"
   ]
  },
  {
   "cell_type": "code",
   "execution_count": 100,
   "metadata": {
    "execution": {
     "iopub.execute_input": "2022-12-27T17:26:44.995791Z",
     "iopub.status.busy": "2022-12-27T17:26:44.995295Z",
     "iopub.status.idle": "2022-12-27T17:27:38.506158Z",
     "shell.execute_reply": "2022-12-27T17:27:38.504880Z",
     "shell.execute_reply.started": "2022-12-27T17:26:44.995753Z"
    }
   },
   "outputs": [
    {
     "data": {
      "text/plain": [
       "XGBRegressor(base_score=0.5, booster='gbtree', callbacks=None,\n",
       "             colsample_bylevel=1, colsample_bynode=1, colsample_bytree=1,\n",
       "             early_stopping_rounds=None, enable_categorical=False, eta=0.2,\n",
       "             eval_metric=None, gamma=0, gpu_id=-1, grow_policy='depthwise',\n",
       "             importance_type=None, interaction_constraints='',\n",
       "             learning_rate=0.200000003, max_bin=256, max_cat_to_onehot=4,\n",
       "             max_delta_step=0, max_depth=15, max_leaves=0, min_child_weight=0.2,\n",
       "             missing=nan, monotone_constraints='()', n_estimators=100, n_jobs=0,\n",
       "             num_parallel_tree=1, predictor='auto', random_state=0, reg_alpha=0, ...)"
      ]
     },
     "execution_count": 100,
     "metadata": {},
     "output_type": "execute_result"
    }
   ],
   "source": [
    "from xgboost import XGBRegressor\n",
    "xgb = XGBRegressor(eta=0.2, max_depth = 15, min_child_weight=0.2)\n",
    "xgb.fit(X_train, y_train)"
   ]
  },
  {
   "cell_type": "code",
   "execution_count": null,
   "metadata": {},
   "outputs": [],
   "source": []
  },
  {
   "cell_type": "code",
   "execution_count": null,
   "metadata": {
    "execution": {
     "iopub.status.busy": "2022-12-27T18:47:11.278066Z",
     "iopub.status.idle": "2022-12-27T18:47:11.279528Z",
     "shell.execute_reply": "2022-12-27T18:47:11.279223Z",
     "shell.execute_reply.started": "2022-12-27T18:47:11.279188Z"
    }
   },
   "outputs": [],
   "source": [
    "params_grid = {\n",
    "    'max_depth': [10, 15],\n",
    "    'min_child_weight':[0.2, 0.5],\n",
    "    'eta': [0.6,0.8, 1]\n",
    "}\n",
    "from sklearn.metrics import mean_squared_error\n",
    "xgb = XGBRegressor()\n",
    "from sklearn.model_selection import GridSearchCV\n",
    "bst_grid = GridSearchCV(\n",
    "    estimator=xgb,\n",
    "    param_grid=params_grid,\n",
    "    cv=5,\n",
    "    scoring='neg_mean_squared_error',\n",
    "    verbose = 30,n_jobs=-1\n",
    ")"
   ]
  },
  {
   "cell_type": "code",
   "execution_count": null,
   "metadata": {
    "execution": {
     "iopub.execute_input": "2022-12-27T18:47:13.016630Z",
     "iopub.status.busy": "2022-12-27T18:47:13.015558Z"
    }
   },
   "outputs": [
    {
     "name": "stdout",
     "output_type": "stream",
     "text": [
      "Fitting 5 folds for each of 12 candidates, totalling 60 fits\n"
     ]
    }
   ],
   "source": [
    "bst_grid.fit(X_train, y_train)"
   ]
  },
  {
   "cell_type": "code",
   "execution_count": null,
   "metadata": {
    "execution": {
     "iopub.status.busy": "2022-12-27T18:08:00.311941Z",
     "iopub.status.idle": "2022-12-27T18:08:00.312931Z",
     "shell.execute_reply": "2022-12-27T18:08:00.312612Z",
     "shell.execute_reply.started": "2022-12-27T18:08:00.312579Z"
    }
   },
   "outputs": [],
   "source": [
    "bst_grid.get_params"
   ]
  },
  {
   "cell_type": "markdown",
   "metadata": {},
   "source": [
    "### Evaluation"
   ]
  },
  {
   "cell_type": "code",
   "execution_count": 101,
   "metadata": {
    "execution": {
     "iopub.execute_input": "2022-12-27T17:27:38.508510Z",
     "iopub.status.busy": "2022-12-27T17:27:38.508140Z",
     "iopub.status.idle": "2022-12-27T17:27:39.922327Z",
     "shell.execute_reply": "2022-12-27T17:27:39.921068Z",
     "shell.execute_reply.started": "2022-12-27T17:27:38.508476Z"
    }
   },
   "outputs": [
    {
     "name": "stdout",
     "output_type": "stream",
     "text": [
      "mean_absolute_error\n",
      "0.7992994213954084\n",
      "\n",
      "mean_squared_error\n",
      "1.595587574248775\n"
     ]
    }
   ],
   "source": [
    "from sklearn.metrics import mean_absolute_error, mean_squared_error\n",
    "y_pred_train = xgb.predict(X_train)\n",
    "print('mean_absolute_error')\n",
    "print(mean_absolute_error(y_pred_train, y_train))\n",
    "# print(mean_absolute_error(y_pred_test, y_test))\n",
    "print()\n",
    "print('mean_squared_error')\n",
    "print(mean_squared_error(y_pred_train, y_train))\n",
    "# print(mean_squared_error(y_pred_test, y_test))"
   ]
  },
  {
   "cell_type": "code",
   "execution_count": null,
   "metadata": {},
   "outputs": [],
   "source": [
    "import pickle as pkl\n"
   ]
  },
  {
   "cell_type": "code",
   "execution_count": 73,
   "metadata": {
    "execution": {
     "iopub.execute_input": "2022-12-27T11:42:07.700261Z",
     "iopub.status.busy": "2022-12-27T11:42:07.699749Z",
     "iopub.status.idle": "2022-12-27T11:42:08.124440Z",
     "shell.execute_reply": "2022-12-27T11:42:08.121659Z",
     "shell.execute_reply.started": "2022-12-27T11:42:07.700223Z"
    }
   },
   "outputs": [],
   "source": [
    "# from sklearn.linear_model import LinearRegression \n",
    "\n",
    "# lr = LinearRegression(normalize = True)\n",
    "# lr.fit(X_train, y_train)\n",
    "# y_pred_train, y_pred_test = lr.predict(X_train), lr.predict(X_test)\n"
   ]
  },
  {
   "cell_type": "code",
   "execution_count": 75,
   "metadata": {
    "execution": {
     "iopub.execute_input": "2022-12-27T11:48:51.124080Z",
     "iopub.status.busy": "2022-12-27T11:48:51.123188Z",
     "iopub.status.idle": "2022-12-27T11:48:51.512831Z",
     "shell.execute_reply": "2022-12-27T11:48:51.510003Z",
     "shell.execute_reply.started": "2022-12-27T11:48:51.123985Z"
    }
   },
   "outputs": [],
   "source": [
    "# from sklearn.preprocessing import PolynomialFeatures\n",
    "# poly_features = PolynomialFeatures(degree=2, include_bias=False)\n",
    "# X_poly = poly_features.fit_transform(X_train)"
   ]
  },
  {
   "cell_type": "code",
   "execution_count": 79,
   "metadata": {
    "execution": {
     "iopub.execute_input": "2022-12-27T11:52:08.611215Z",
     "iopub.status.busy": "2022-12-27T11:52:08.610824Z",
     "iopub.status.idle": "2022-12-27T11:52:09.974510Z",
     "shell.execute_reply": "2022-12-27T11:52:09.972440Z",
     "shell.execute_reply.started": "2022-12-27T11:52:08.611182Z"
    }
   },
   "outputs": [],
   "source": [
    "# lr = LinearRegression(normalize = True)\n",
    "# lr.fit(X_poly, y_train)\n",
    "# y_pred_train, y_pred_test = lr.predict(X_poly), lr.predict(poly_features.transform(X_test))"
   ]
  },
  {
   "cell_type": "code",
   "execution_count": 22,
   "metadata": {
    "execution": {
     "iopub.execute_input": "2022-12-27T15:29:34.315001Z",
     "iopub.status.busy": "2022-12-27T15:29:34.314488Z",
     "iopub.status.idle": "2022-12-27T15:29:34.333195Z",
     "shell.execute_reply": "2022-12-27T15:29:34.331612Z",
     "shell.execute_reply.started": "2022-12-27T15:29:34.314960Z"
    }
   },
   "outputs": [
    {
     "data": {
      "text/html": [
       "<div>\n",
       "<style scoped>\n",
       "    .dataframe tbody tr th:only-of-type {\n",
       "        vertical-align: middle;\n",
       "    }\n",
       "\n",
       "    .dataframe tbody tr th {\n",
       "        vertical-align: top;\n",
       "    }\n",
       "\n",
       "    .dataframe thead th {\n",
       "        text-align: right;\n",
       "    }\n",
       "</style>\n",
       "<table border=\"1\" class=\"dataframe\">\n",
       "  <thead>\n",
       "    <tr style=\"text-align: right;\">\n",
       "      <th></th>\n",
       "      <th>Physician_ID</th>\n",
       "      <th>Time_Period</th>\n",
       "      <th>Market_Rx</th>\n",
       "      <th>Sales_Rep_Calls</th>\n",
       "      <th>Samples_Dropped</th>\n",
       "      <th>Physician_Segment</th>\n",
       "      <th>Emails_Delivered</th>\n",
       "      <th>Speaker_Programs_Attended</th>\n",
       "      <th>Vouchers_Dropped</th>\n",
       "      <th>Dermatologist</th>\n",
       "      <th>General Physician</th>\n",
       "      <th>Nurse Practitioner</th>\n",
       "      <th>Brand_Rx</th>\n",
       "    </tr>\n",
       "  </thead>\n",
       "  <tbody>\n",
       "    <tr>\n",
       "      <th>0</th>\n",
       "      <td>axt00001</td>\n",
       "      <td>2019-01-04</td>\n",
       "      <td>2.80567</td>\n",
       "      <td>1</td>\n",
       "      <td>0</td>\n",
       "      <td>1</td>\n",
       "      <td>0</td>\n",
       "      <td>0</td>\n",
       "      <td>0</td>\n",
       "      <td>1</td>\n",
       "      <td>0</td>\n",
       "      <td>0</td>\n",
       "      <td>0.0</td>\n",
       "    </tr>\n",
       "    <tr>\n",
       "      <th>1</th>\n",
       "      <td>axt00001</td>\n",
       "      <td>2019-01-11</td>\n",
       "      <td>20.57312</td>\n",
       "      <td>1</td>\n",
       "      <td>0</td>\n",
       "      <td>1</td>\n",
       "      <td>0</td>\n",
       "      <td>0</td>\n",
       "      <td>0</td>\n",
       "      <td>1</td>\n",
       "      <td>0</td>\n",
       "      <td>0</td>\n",
       "      <td>0.0</td>\n",
       "    </tr>\n",
       "    <tr>\n",
       "      <th>2</th>\n",
       "      <td>axt00001</td>\n",
       "      <td>2019-01-18</td>\n",
       "      <td>6.16010</td>\n",
       "      <td>1</td>\n",
       "      <td>0</td>\n",
       "      <td>1</td>\n",
       "      <td>0</td>\n",
       "      <td>0</td>\n",
       "      <td>0</td>\n",
       "      <td>1</td>\n",
       "      <td>0</td>\n",
       "      <td>0</td>\n",
       "      <td>0.0</td>\n",
       "    </tr>\n",
       "    <tr>\n",
       "      <th>3</th>\n",
       "      <td>axt00001</td>\n",
       "      <td>2019-01-25</td>\n",
       "      <td>8.95501</td>\n",
       "      <td>1</td>\n",
       "      <td>5</td>\n",
       "      <td>1</td>\n",
       "      <td>0</td>\n",
       "      <td>0</td>\n",
       "      <td>0</td>\n",
       "      <td>1</td>\n",
       "      <td>0</td>\n",
       "      <td>0</td>\n",
       "      <td>0.0</td>\n",
       "    </tr>\n",
       "    <tr>\n",
       "      <th>4</th>\n",
       "      <td>axt00001</td>\n",
       "      <td>2019-02-01</td>\n",
       "      <td>9.13793</td>\n",
       "      <td>1</td>\n",
       "      <td>0</td>\n",
       "      <td>1</td>\n",
       "      <td>0</td>\n",
       "      <td>0</td>\n",
       "      <td>0</td>\n",
       "      <td>1</td>\n",
       "      <td>0</td>\n",
       "      <td>0</td>\n",
       "      <td>0.0</td>\n",
       "    </tr>\n",
       "  </tbody>\n",
       "</table>\n",
       "</div>"
      ],
      "text/plain": [
       "  Physician_ID Time_Period  Market_Rx  Sales_Rep_Calls  Samples_Dropped  \\\n",
       "0     axt00001  2019-01-04    2.80567                1                0   \n",
       "1     axt00001  2019-01-11   20.57312                1                0   \n",
       "2     axt00001  2019-01-18    6.16010                1                0   \n",
       "3     axt00001  2019-01-25    8.95501                1                5   \n",
       "4     axt00001  2019-02-01    9.13793                1                0   \n",
       "\n",
       "   Physician_Segment  Emails_Delivered  Speaker_Programs_Attended  \\\n",
       "0                  1                 0                          0   \n",
       "1                  1                 0                          0   \n",
       "2                  1                 0                          0   \n",
       "3                  1                 0                          0   \n",
       "4                  1                 0                          0   \n",
       "\n",
       "   Vouchers_Dropped  Dermatologist  General Physician  Nurse Practitioner  \\\n",
       "0                 0              1                  0                   0   \n",
       "1                 0              1                  0                   0   \n",
       "2                 0              1                  0                   0   \n",
       "3                 0              1                  0                   0   \n",
       "4                 0              1                  0                   0   \n",
       "\n",
       "   Brand_Rx  \n",
       "0       0.0  \n",
       "1       0.0  \n",
       "2       0.0  \n",
       "3       0.0  \n",
       "4       0.0  "
      ]
     },
     "execution_count": 22,
     "metadata": {},
     "output_type": "execute_result"
    }
   ],
   "source": [
    "# df1.head()"
   ]
  },
  {
   "cell_type": "code",
   "execution_count": 23,
   "metadata": {
    "execution": {
     "iopub.execute_input": "2022-12-27T15:30:14.722658Z",
     "iopub.status.busy": "2022-12-27T15:30:14.722240Z",
     "iopub.status.idle": "2022-12-27T15:30:14.728298Z",
     "shell.execute_reply": "2022-12-27T15:30:14.727107Z",
     "shell.execute_reply.started": "2022-12-27T15:30:14.722625Z"
    }
   },
   "outputs": [],
   "source": [
    "# df1['Market_Rx'].describe()"
   ]
  },
  {
   "cell_type": "markdown",
   "metadata": {},
   "source": [
    "### Data Analysis"
   ]
  },
  {
   "cell_type": "code",
   "execution_count": 93,
   "metadata": {
    "execution": {
     "iopub.execute_input": "2022-12-27T12:10:02.550504Z",
     "iopub.status.busy": "2022-12-27T12:10:02.550079Z",
     "iopub.status.idle": "2022-12-27T12:10:02.865675Z",
     "shell.execute_reply": "2022-12-27T12:10:02.864766Z",
     "shell.execute_reply.started": "2022-12-27T12:10:02.550467Z"
    }
   },
   "outputs": [
    {
     "data": {
      "text/plain": [
       "<AxesSubplot:xlabel='Market_Rx'>"
      ]
     },
     "execution_count": 93,
     "metadata": {},
     "output_type": "execute_result"
    },
    {
     "data": {
      "image/png": "[encoded data removed]",
      "text/plain": [
       "<Figure size 432x288 with 1 Axes>"
      ]
     },
     "metadata": {
      "needs_background": "light"
     },
     "output_type": "display_data"
    }
   ],
   "source": [
    "sns.boxplot(df1['Market_Rx'])"
   ]
  },
  {
   "cell_type": "code",
   "execution_count": 97,
   "metadata": {
    "execution": {
     "iopub.execute_input": "2022-12-27T12:11:52.153255Z",
     "iopub.status.busy": "2022-12-27T12:11:52.152729Z",
     "iopub.status.idle": "2022-12-27T12:11:52.439267Z",
     "shell.execute_reply": "2022-12-27T12:11:52.437996Z",
     "shell.execute_reply.started": "2022-12-27T12:11:52.153216Z"
    }
   },
   "outputs": [
    {
     "data": {
      "text/plain": [
       "<AxesSubplot:xlabel='Emails_Delivered', ylabel='count'>"
      ]
     },
     "execution_count": 97,
     "metadata": {},
     "output_type": "execute_result"
    },
    {
     "data": {
      "image/png": "[encoded data removed]",
      "text/plain": [
       "<Figure size 432x288 with 1 Axes>"
      ]
     },
     "metadata": {
      "needs_background": "light"
     },
     "output_type": "display_data"
    }
   ],
   "source": [
    "sns.countplot(df1['Emails_Delivered'])"
   ]
  },
  {
   "cell_type": "code",
   "execution_count": 98,
   "metadata": {
    "execution": {
     "iopub.execute_input": "2022-12-27T12:13:02.044500Z",
     "iopub.status.busy": "2022-12-27T12:13:02.043473Z",
     "iopub.status.idle": "2022-12-27T12:13:03.524233Z",
     "shell.execute_reply": "2022-12-27T12:13:03.522455Z",
     "shell.execute_reply.started": "2022-12-27T12:13:02.044435Z"
    }
   },
   "outputs": [
    {
     "data": {
      "text/plain": [
       "<AxesSubplot:xlabel='Samples_Dropped', ylabel='count'>"
      ]
     },
     "execution_count": 98,
     "metadata": {},
     "output_type": "execute_result"
    },
    {
     "data": {
      "image/png": "[encoded data removed]",
      "text/plain": [
       "<Figure size 432x288 with 1 Axes>"
      ]
     },
     "metadata": {
      "needs_background": "light"
     },
     "output_type": "display_data"
    }
   ],
   "source": [
    "sns.countplot(df1['Samples_Dropped'])"
   ]
  },
  {
   "cell_type": "code",
   "execution_count": 99,
   "metadata": {
    "execution": {
     "iopub.execute_input": "2022-12-27T12:14:58.611111Z",
     "iopub.status.busy": "2022-12-27T12:14:58.610630Z",
     "iopub.status.idle": "2022-12-27T12:14:58.850699Z",
     "shell.execute_reply": "2022-12-27T12:14:58.849476Z",
     "shell.execute_reply.started": "2022-12-27T12:14:58.611074Z"
    }
   },
   "outputs": [
    {
     "data": {
      "text/plain": [
       "<AxesSubplot:xlabel='Sales_Rep_Calls', ylabel='count'>"
      ]
     },
     "execution_count": 99,
     "metadata": {},
     "output_type": "execute_result"
    },
    {
     "data": {
      "image/png": "[encoded data removed]",
      "text/plain": [
       "<Figure size 432x288 with 1 Axes>"
      ]
     },
     "metadata": {
      "needs_background": "light"
     },
     "output_type": "display_data"
    }
   ],
   "source": [
    "sns.countplot(df1['Sales_Rep_Calls'])"
   ]
  },
  {
   "cell_type": "code",
   "execution_count": 20,
   "metadata": {
    "execution": {
     "iopub.execute_input": "2022-12-27T15:21:40.094698Z",
     "iopub.status.busy": "2022-12-27T15:21:40.094271Z",
     "iopub.status.idle": "2022-12-27T15:21:40.421208Z",
     "shell.execute_reply": "2022-12-27T15:21:40.419690Z",
     "shell.execute_reply.started": "2022-12-27T15:21:40.094662Z"
    }
   },
   "outputs": [
    {
     "data": {
      "text/plain": [
       "(array([4.77227e+05, 5.02260e+04, 2.36990e+04, 1.00540e+04, 3.94500e+03,\n",
       "        2.08900e+03, 1.10300e+03, 6.66000e+02, 3.52000e+02, 2.23000e+02,\n",
       "        1.34000e+02, 9.70000e+01, 5.30000e+01, 3.10000e+01, 1.60000e+01,\n",
       "        1.50000e+01, 7.00000e+00, 5.00000e+00, 2.00000e+00, 3.00000e+00,\n",
       "        4.00000e+00, 4.00000e+00, 1.00000e+00, 5.00000e+00, 2.00000e+00,\n",
       "        0.00000e+00, 4.00000e+00, 3.00000e+00, 4.00000e+00, 4.00000e+00,\n",
       "        2.00000e+00, 6.00000e+00, 2.00000e+00, 3.00000e+00, 1.00000e+00,\n",
       "        2.00000e+00, 0.00000e+00, 1.00000e+00, 2.00000e+00, 0.00000e+00,\n",
       "        0.00000e+00, 0.00000e+00, 0.00000e+00, 1.00000e+00, 0.00000e+00,\n",
       "        0.00000e+00, 0.00000e+00, 0.00000e+00, 0.00000e+00, 2.00000e+00]),\n",
       " array([ 0.    ,  1.2851,  2.5702,  3.8553,  5.1404,  6.4255,  7.7106,\n",
       "         8.9957, 10.2808, 11.5659, 12.851 , 14.1361, 15.4212, 16.7063,\n",
       "        17.9914, 19.2765, 20.5616, 21.8467, 23.1318, 24.4169, 25.702 ,\n",
       "        26.9871, 28.2722, 29.5573, 30.8424, 32.1275, 33.4126, 34.6977,\n",
       "        35.9828, 37.2679, 38.553 , 39.8381, 41.1232, 42.4083, 43.6934,\n",
       "        44.9785, 46.2636, 47.5487, 48.8338, 50.1189, 51.404 , 52.6891,\n",
       "        53.9742, 55.2593, 56.5444, 57.8295, 59.1146, 60.3997, 61.6848,\n",
       "        62.9699, 64.255 ]),\n",
       " <BarContainer object of 50 artists>)"
      ]
     },
     "execution_count": 20,
     "metadata": {},
     "output_type": "execute_result"
    },
    {
     "data": {
      "image/png": "[encoded data removed]",
      "text/plain": [
       "<Figure size 432x288 with 1 Axes>"
      ]
     },
     "metadata": {
      "needs_background": "light"
     },
     "output_type": "display_data"
    }
   ],
   "source": [
    "plt.hist(df1['Brand_Rx'], bins=50)"
   ]
  },
  {
   "cell_type": "code",
   "execution_count": 21,
   "metadata": {
    "execution": {
     "iopub.execute_input": "2022-12-27T15:27:50.662615Z",
     "iopub.status.busy": "2022-12-27T15:27:50.662199Z",
     "iopub.status.idle": "2022-12-27T15:27:50.903322Z",
     "shell.execute_reply": "2022-12-27T15:27:50.902192Z",
     "shell.execute_reply.started": "2022-12-27T15:27:50.662580Z"
    }
   },
   "outputs": [
    {
     "data": {
      "text/plain": [
       "(array([2.94303e+05, 1.20674e+05, 6.61340e+04, 3.62760e+04, 2.03850e+04,\n",
       "        1.18950e+04, 7.01200e+03, 4.47700e+03, 2.63800e+03, 1.74600e+03,\n",
       "        1.22500e+03, 8.56000e+02, 5.95000e+02, 4.43000e+02, 3.12000e+02,\n",
       "        2.13000e+02, 1.58000e+02, 1.25000e+02, 1.11000e+02, 8.70000e+01,\n",
       "        8.10000e+01, 3.10000e+01, 4.70000e+01, 3.60000e+01, 1.90000e+01,\n",
       "        2.10000e+01, 1.10000e+01, 1.00000e+01, 8.00000e+00, 4.00000e+00,\n",
       "        8.00000e+00, 4.00000e+00, 6.00000e+00, 2.00000e+00, 2.00000e+00,\n",
       "        5.00000e+00, 7.00000e+00, 7.00000e+00, 5.00000e+00, 4.00000e+00,\n",
       "        2.00000e+00, 2.00000e+00, 4.00000e+00, 3.00000e+00, 1.00000e+00,\n",
       "        1.00000e+00, 1.00000e+00, 0.00000e+00, 2.00000e+00, 1.00000e+00]),\n",
       " array([  0.       ,   5.1993396,  10.3986792,  15.5980188,  20.7973584,\n",
       "         25.996698 ,  31.1960376,  36.3953772,  41.5947168,  46.7940564,\n",
       "         51.993396 ,  57.1927356,  62.3920752,  67.5914148,  72.7907544,\n",
       "         77.990094 ,  83.1894336,  88.3887732,  93.5881128,  98.7874524,\n",
       "        103.986792 , 109.1861316, 114.3854712, 119.5848108, 124.7841504,\n",
       "        129.98349  , 135.1828296, 140.3821692, 145.5815088, 150.7808484,\n",
       "        155.980188 , 161.1795276, 166.3788672, 171.5782068, 176.7775464,\n",
       "        181.976886 , 187.1762256, 192.3755652, 197.5749048, 202.7742444,\n",
       "        207.973584 , 213.1729236, 218.3722632, 223.5716028, 228.7709424,\n",
       "        233.970282 , 239.1696216, 244.3689612, 249.5683008, 254.7676404,\n",
       "        259.96698  ]),\n",
       " <BarContainer object of 50 artists>)"
      ]
     },
     "execution_count": 21,
     "metadata": {},
     "output_type": "execute_result"
    },
    {
     "data": {
      "image/png": "[encoded data removed]",
      "text/plain": [
       "<Figure size 432x288 with 1 Axes>"
      ]
     },
     "metadata": {
      "needs_background": "light"
     },
     "output_type": "display_data"
    }
   ],
   "source": [
    "plt.hist(df1['Market_Rx'], bins=50)"
   ]
  },
  {
   "cell_type": "code",
   "execution_count": 24,
   "metadata": {
    "execution": {
     "iopub.execute_input": "2022-12-27T15:30:58.215762Z",
     "iopub.status.busy": "2022-12-27T15:30:58.215297Z",
     "iopub.status.idle": "2022-12-27T15:30:58.221667Z",
     "shell.execute_reply": "2022-12-27T15:30:58.220506Z",
     "shell.execute_reply.started": "2022-12-27T15:30:58.215726Z"
    }
   },
   "outputs": [],
   "source": [
    "# from sklearn.preprocessing import OneHotEncoder\n",
    "# encoder1hot = OneHotEncoder()\n",
    "# id  = encoder1hot.fit_transform(df1[['Physician_ID']])\n",
    "# id"
   ]
  },
  {
   "cell_type": "code",
   "execution_count": 25,
   "metadata": {
    "execution": {
     "iopub.execute_input": "2022-12-27T15:31:01.735232Z",
     "iopub.status.busy": "2022-12-27T15:31:01.734204Z",
     "iopub.status.idle": "2022-12-27T15:31:01.740000Z",
     "shell.execute_reply": "2022-12-27T15:31:01.738855Z",
     "shell.execute_reply.started": "2022-12-27T15:31:01.735187Z"
    }
   },
   "outputs": [],
   "source": [
    "\n",
    "# id = pd.DataFrame.sparse.from_spmatrix(id)\n",
    "# id.head()\n",
    "# id.columns = encoder1hot.get_feature_names_out()\n",
    "# df1.drop(['Physician_ID'], axis=1, inplace=True)\n",
    "# df1[id.columns] = encoded"
   ]
  },
  {
   "cell_type": "markdown",
   "metadata": {},
   "source": [
    "### Neural Netwok Model"
   ]
  },
  {
   "cell_type": "code",
   "execution_count": 28,
   "metadata": {
    "execution": {
     "iopub.execute_input": "2022-12-27T15:35:32.955534Z",
     "iopub.status.busy": "2022-12-27T15:35:32.955079Z",
     "iopub.status.idle": "2022-12-27T15:35:32.961168Z",
     "shell.execute_reply": "2022-12-27T15:35:32.960298Z",
     "shell.execute_reply.started": "2022-12-27T15:35:32.955499Z"
    }
   },
   "outputs": [],
   "source": [
    "import tensorflow as tf\n",
    "import tensorflow.keras\n",
    "from keras.models import Sequential\n",
    "from keras.layers import Dense"
   ]
  },
  {
   "cell_type": "code",
   "execution_count": 41,
   "metadata": {
    "execution": {
     "iopub.execute_input": "2022-12-27T16:13:43.875090Z",
     "iopub.status.busy": "2022-12-27T16:13:43.874524Z",
     "iopub.status.idle": "2022-12-27T16:13:43.893285Z",
     "shell.execute_reply": "2022-12-27T16:13:43.892061Z",
     "shell.execute_reply.started": "2022-12-27T16:13:43.875052Z"
    }
   },
   "outputs": [],
   "source": [
    "model = Sequential([\n",
    "    Dense(32, activation='relu')\n",
    "    Dense(8, activation='relu'),\n",
    "    Dense(8, activation='relu'),\n",
    "    Dense(1)\n",
    "])\n",
    "model.compile(loss='mse', optimizer='rmsprop', metrics = ['mae'])"
   ]
  },
  {
   "cell_type": "code",
   "execution_count": 55,
   "metadata": {
    "execution": {
     "iopub.execute_input": "2022-12-27T16:37:10.075666Z",
     "iopub.status.busy": "2022-12-27T16:37:10.075260Z",
     "iopub.status.idle": "2022-12-27T16:39:16.130622Z",
     "shell.execute_reply": "2022-12-27T16:39:16.129328Z",
     "shell.execute_reply.started": "2022-12-27T16:37:10.075634Z"
    }
   },
   "outputs": [
    {
     "name": "stdout",
     "output_type": "stream",
     "text": [
      "Epoch 1/50\n",
      "1230/1230 [==============================] - 5s 4ms/step - loss: 0.1295 - mae: 0.2737 - val_loss: 0.0895 - val_mae: 0.1925\n",
      "Epoch 2/50\n",
      "1230/1230 [==============================] - 3s 2ms/step - loss: 0.0900 - mae: 0.1969 - val_loss: 0.0894 - val_mae: 0.1978\n",
      "Epoch 3/50\n",
      "1230/1230 [==============================] - 3s 2ms/step - loss: 0.0900 - mae: 0.1968 - val_loss: 0.0895 - val_mae: 0.1987\n",
      "Epoch 4/50\n",
      "1230/1230 [==============================] - 3s 2ms/step - loss: 0.0900 - mae: 0.1969 - val_loss: 0.0894 - val_mae: 0.1957\n",
      "Epoch 5/50\n",
      "1230/1230 [==============================] - 3s 3ms/step - loss: 0.0900 - mae: 0.1969 - val_loss: 0.0894 - val_mae: 0.1929\n",
      "Epoch 6/50\n",
      "1230/1230 [==============================] - 3s 2ms/step - loss: 0.0900 - mae: 0.1968 - val_loss: 0.0894 - val_mae: 0.1959\n",
      "Epoch 7/50\n",
      "1230/1230 [==============================] - 3s 2ms/step - loss: 0.0900 - mae: 0.1969 - val_loss: 0.0894 - val_mae: 0.1953\n",
      "Epoch 8/50\n",
      "1230/1230 [==============================] - 3s 2ms/step - loss: 0.0900 - mae: 0.1968 - val_loss: 0.0894 - val_mae: 0.1962\n",
      "Epoch 9/50\n",
      "1230/1230 [==============================] - 3s 2ms/step - loss: 0.0900 - mae: 0.1968 - val_loss: 0.0894 - val_mae: 0.1944\n",
      "Epoch 10/50\n",
      "1230/1230 [==============================] - 3s 2ms/step - loss: 0.0900 - mae: 0.1968 - val_loss: 0.0895 - val_mae: 0.1909\n",
      "Epoch 11/50\n",
      "1230/1230 [==============================] - 3s 2ms/step - loss: 0.0900 - mae: 0.1968 - val_loss: 0.0894 - val_mae: 0.1950\n",
      "Epoch 12/50\n",
      "1230/1230 [==============================] - 3s 2ms/step - loss: 0.0900 - mae: 0.1970 - val_loss: 0.0894 - val_mae: 0.1940\n",
      "Epoch 13/50\n",
      "1230/1230 [==============================] - 3s 2ms/step - loss: 0.0900 - mae: 0.1968 - val_loss: 0.0894 - val_mae: 0.1955\n",
      "Epoch 14/50\n",
      "1230/1230 [==============================] - 3s 2ms/step - loss: 0.0900 - mae: 0.1969 - val_loss: 0.0894 - val_mae: 0.1993\n",
      "Epoch 15/50\n",
      "1230/1230 [==============================] - 3s 2ms/step - loss: 0.0900 - mae: 0.1970 - val_loss: 0.0894 - val_mae: 0.1918\n",
      "Epoch 16/50\n",
      "1230/1230 [==============================] - 3s 3ms/step - loss: 0.0900 - mae: 0.1968 - val_loss: 0.0894 - val_mae: 0.1985\n",
      "Epoch 17/50\n",
      "1230/1230 [==============================] - 3s 2ms/step - loss: 0.0900 - mae: 0.1969 - val_loss: 0.0894 - val_mae: 0.1946\n",
      "Epoch 18/50\n",
      "1230/1230 [==============================] - 3s 2ms/step - loss: 0.0900 - mae: 0.1967 - val_loss: 0.0894 - val_mae: 0.1961\n",
      "Epoch 19/50\n",
      "1230/1230 [==============================] - 3s 2ms/step - loss: 0.0900 - mae: 0.1968 - val_loss: 0.0894 - val_mae: 0.1970\n",
      "Epoch 20/50\n",
      "1230/1230 [==============================] - 3s 2ms/step - loss: 0.0900 - mae: 0.1968 - val_loss: 0.0894 - val_mae: 0.1997\n",
      "Epoch 21/50\n",
      "1230/1230 [==============================] - 3s 2ms/step - loss: 0.0900 - mae: 0.1969 - val_loss: 0.0894 - val_mae: 0.2008\n",
      "Epoch 22/50\n",
      "1230/1230 [==============================] - 3s 2ms/step - loss: 0.0900 - mae: 0.1971 - val_loss: 0.0894 - val_mae: 0.1933\n",
      "Epoch 23/50\n",
      "1230/1230 [==============================] - 3s 2ms/step - loss: 0.0900 - mae: 0.1968 - val_loss: 0.0894 - val_mae: 0.1951\n",
      "Epoch 24/50\n",
      "1230/1230 [==============================] - 3s 2ms/step - loss: 0.0900 - mae: 0.1967 - val_loss: 0.0894 - val_mae: 0.1976\n",
      "Epoch 25/50\n",
      "1230/1230 [==============================] - 3s 2ms/step - loss: 0.0900 - mae: 0.1969 - val_loss: 0.0894 - val_mae: 0.1960\n",
      "Epoch 26/50\n",
      "1230/1230 [==============================] - 3s 2ms/step - loss: 0.0900 - mae: 0.1969 - val_loss: 0.0894 - val_mae: 0.1933\n",
      "Epoch 27/50\n",
      "1230/1230 [==============================] - 3s 2ms/step - loss: 0.0900 - mae: 0.1968 - val_loss: 0.0894 - val_mae: 0.1918\n",
      "Epoch 28/50\n",
      "1230/1230 [==============================] - 3s 3ms/step - loss: 0.0900 - mae: 0.1969 - val_loss: 0.0894 - val_mae: 0.1943\n",
      "Epoch 29/50\n",
      "1230/1230 [==============================] - 3s 2ms/step - loss: 0.0900 - mae: 0.1969 - val_loss: 0.0894 - val_mae: 0.1953\n",
      "Epoch 30/50\n",
      "1230/1230 [==============================] - 3s 2ms/step - loss: 0.0900 - mae: 0.1969 - val_loss: 0.0894 - val_mae: 0.1965\n",
      "Epoch 31/50\n",
      "1230/1230 [==============================] - 3s 2ms/step - loss: 0.0900 - mae: 0.1969 - val_loss: 0.0894 - val_mae: 0.1956\n",
      "Epoch 32/50\n",
      "1230/1230 [==============================] - 3s 2ms/step - loss: 0.0900 - mae: 0.1967 - val_loss: 0.0894 - val_mae: 0.1996\n",
      "Epoch 33/50\n",
      "1230/1230 [==============================] - 3s 2ms/step - loss: 0.0900 - mae: 0.1969 - val_loss: 0.0894 - val_mae: 0.1985\n",
      "Epoch 34/50\n",
      "1230/1230 [==============================] - 3s 2ms/step - loss: 0.0900 - mae: 0.1968 - val_loss: 0.0894 - val_mae: 0.1959\n",
      "Epoch 35/50\n",
      "1230/1230 [==============================] - 3s 2ms/step - loss: 0.0900 - mae: 0.1968 - val_loss: 0.0894 - val_mae: 0.1927\n",
      "Epoch 36/50\n",
      "1230/1230 [==============================] - 3s 2ms/step - loss: 0.0900 - mae: 0.1967 - val_loss: 0.0894 - val_mae: 0.1966\n",
      "Epoch 37/50\n",
      "1230/1230 [==============================] - 3s 2ms/step - loss: 0.0900 - mae: 0.1969 - val_loss: 0.0894 - val_mae: 0.1961\n",
      "Epoch 38/50\n",
      "1230/1230 [==============================] - 3s 2ms/step - loss: 0.0900 - mae: 0.1967 - val_loss: 0.0894 - val_mae: 0.1985\n",
      "Epoch 39/50\n",
      "1230/1230 [==============================] - 3s 2ms/step - loss: 0.0900 - mae: 0.1967 - val_loss: 0.0894 - val_mae: 0.1952\n",
      "Epoch 40/50\n",
      "1230/1230 [==============================] - 3s 2ms/step - loss: 0.0900 - mae: 0.1968 - val_loss: 0.0894 - val_mae: 0.1962\n",
      "Epoch 41/50\n",
      "1230/1230 [==============================] - 3s 2ms/step - loss: 0.0900 - mae: 0.1968 - val_loss: 0.0894 - val_mae: 0.1980\n"
     ]
    }
   ],
   "source": [
    "from tensorflow.keras.callbacks import EarlyStopping\n",
    "\n",
    "early_stopping = EarlyStopping(\n",
    "    min_delta=0.001, # minimium amount of change to count as an improvement\n",
    "    patience=40, # how many epochs to wait before stopping\n",
    "    restore_best_weights=True,\n",
    ")\n",
    "history = model.fit(\n",
    "    X_train_scaled, y_train,\n",
    "    validation_data=(X_test_scaled, y_test),\n",
    "    batch_size=256,\n",
    "    epochs=50,\n",
    "    callbacks=[early_stopping], # put your callbacks in a list\n",
    "    verbose=1,  # turn off training log\n",
    ")\n"
   ]
  },
  {
   "cell_type": "code",
   "execution_count": null,
   "metadata": {
    "execution": {
     "iopub.status.busy": "2022-12-27T16:26:24.352065Z",
     "iopub.status.idle": "2022-12-27T16:26:24.352470Z",
     "shell.execute_reply": "2022-12-27T16:26:24.352289Z",
     "shell.execute_reply.started": "2022-12-27T16:26:24.352271Z"
    }
   },
   "outputs": [],
   "source": [
    "model.best"
   ]
  },
  {
   "cell_type": "code",
   "execution_count": 52,
   "metadata": {
    "execution": {
     "iopub.execute_input": "2022-12-27T16:36:16.565131Z",
     "iopub.status.busy": "2022-12-27T16:36:16.564351Z",
     "iopub.status.idle": "2022-12-27T16:36:16.596203Z",
     "shell.execute_reply": "2022-12-27T16:36:16.595030Z",
     "shell.execute_reply.started": "2022-12-27T16:36:16.565092Z"
    }
   },
   "outputs": [],
   "source": [
    "df_red = df1[df1['Brand_Rx']<1]"
   ]
  },
  {
   "cell_type": "code",
   "execution_count": null,
   "metadata": {},
   "outputs": [],
   "source": []
  }
 ],
 "metadata": {
  "kernelspec": {
   "display_name": "Python 3 (ipykernel)",
   "language": "python",
   "name": "python3"
  },
  "language_info": {
   "codemirror_mode": {
    "name": "ipython",
    "version": 3
   },
   "file_extension": ".py",
   "mimetype": "text/x-python",
   "name": "python",
   "nbconvert_exporter": "python",
   "pygments_lexer": "ipython3",
   "version": "3.9.13"
  }
 },
 "nbformat": 4,
 "nbformat_minor": 4
}
