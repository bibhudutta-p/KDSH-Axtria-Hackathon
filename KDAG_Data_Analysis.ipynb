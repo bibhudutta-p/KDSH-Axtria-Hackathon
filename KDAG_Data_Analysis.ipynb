{
 "cells": [
  {
   "cell_type": "code",
   "execution_count": 1,
   "metadata": {
    "id": "qHUOyPMt3DgQ"
   },
   "outputs": [],
   "source": [
    "import pandas as pd\n",
    "import numpy as np"
   ]
  },
  {
   "cell_type": "code",
   "execution_count": 2,
   "metadata": {
    "id": "j81JrklKCKjG"
   },
   "outputs": [],
   "source": [
    "hcp=pd.read_excel(\"HCP_Data_KDAG_Hackathon.xlsx\")"
   ]
  },
  {
   "cell_type": "code",
   "execution_count": 3,
   "metadata": {
    "id": "f_7lPYpgRXiF"
   },
   "outputs": [],
   "source": [
    "patient=pd.read_excel(\"Patient_Data_KDAG_Hackathon.xlsx\")"
   ]
  },
  {
   "cell_type": "code",
   "execution_count": 4,
   "metadata": {
    "colab": {
     "base_uri": "https://localhost:8080/"
    },
    "id": "-a6MYiteWPzb",
    "outputId": "0dd4a02e-785b-4393-a1e9-43f3b1149587"
   },
   "outputs": [
    {
     "name": "stdout",
     "output_type": "stream",
     "text": [
      "<class 'pandas.core.frame.DataFrame'>\n",
      "RangeIndex: 570000 entries, 0 to 569999\n",
      "Data columns (total 11 columns):\n",
      " #   Column                     Non-Null Count   Dtype  \n",
      "---  ------                     --------------   -----  \n",
      " 0   Physician_ID               570000 non-null  object \n",
      " 1   Time_Period                570000 non-null  int64  \n",
      " 2   Brand_Rx                   570000 non-null  float64\n",
      " 3   Market_Rx                  570000 non-null  float64\n",
      " 4   Sales_Rep_Calls            570000 non-null  int64  \n",
      " 5   Samples_Dropped            570000 non-null  int64  \n",
      " 6   Physician_Segment          570000 non-null  object \n",
      " 7   Emails_Delivered           570000 non-null  int64  \n",
      " 8   Speaker_Programs_Attended  570000 non-null  int64  \n",
      " 9   Vouchers_Dropped           570000 non-null  int64  \n",
      " 10  Specialty                  570000 non-null  object \n",
      "dtypes: float64(2), int64(6), object(3)\n",
      "memory usage: 47.8+ MB\n"
     ]
    }
   ],
   "source": [
    "hcp.info()"
   ]
  },
  {
   "cell_type": "code",
   "execution_count": 5,
   "metadata": {
    "colab": {
     "base_uri": "https://localhost:8080/"
    },
    "id": "7y8QZ7fRv9ag",
    "outputId": "6988a9f5-ff43-4d3d-ffed-cc866f157525"
   },
   "outputs": [
    {
     "name": "stdout",
     "output_type": "stream",
     "text": [
      "<class 'pandas.core.frame.DataFrame'>\n",
      "RangeIndex: 724324 entries, 0 to 724323\n",
      "Data columns (total 6 columns):\n",
      " #   Column              Non-Null Count   Dtype         \n",
      "---  ------              --------------   -----         \n",
      " 0   Patient ID          724324 non-null  int64         \n",
      " 1   Physician_ID        724324 non-null  object        \n",
      " 2   Date_of_Visit       724324 non-null  datetime64[ns]\n",
      " 3   Year of Birth       723100 non-null  float64       \n",
      " 4   Gender              724324 non-null  object        \n",
      " 5   Geographical_State  712187 non-null  object        \n",
      "dtypes: datetime64[ns](1), float64(1), int64(1), object(3)\n",
      "memory usage: 33.2+ MB\n"
     ]
    }
   ],
   "source": [
    "patient.info()"
   ]
  },
  {
   "cell_type": "code",
   "execution_count": 6,
   "metadata": {
    "colab": {
     "base_uri": "https://localhost:8080/",
     "height": 424
    },
    "id": "t67IHDMUwFgN",
    "outputId": "0d7f17f4-c508-4b41-eb6f-114dc1eb7c2d"
   },
   "outputs": [
    {
     "data": {
      "text/html": [
       "<div>\n",
       "<style scoped>\n",
       "    .dataframe tbody tr th:only-of-type {\n",
       "        vertical-align: middle;\n",
       "    }\n",
       "\n",
       "    .dataframe tbody tr th {\n",
       "        vertical-align: top;\n",
       "    }\n",
       "\n",
       "    .dataframe thead th {\n",
       "        text-align: right;\n",
       "    }\n",
       "</style>\n",
       "<table border=\"1\" class=\"dataframe\">\n",
       "  <thead>\n",
       "    <tr style=\"text-align: right;\">\n",
       "      <th></th>\n",
       "      <th>Patient ID</th>\n",
       "      <th>Physician_ID</th>\n",
       "      <th>Date_of_Visit</th>\n",
       "      <th>Year of Birth</th>\n",
       "      <th>Gender</th>\n",
       "      <th>Geographical_State</th>\n",
       "    </tr>\n",
       "  </thead>\n",
       "  <tbody>\n",
       "    <tr>\n",
       "      <th>0</th>\n",
       "      <td>16445</td>\n",
       "      <td>axt01951</td>\n",
       "      <td>2020-01-12</td>\n",
       "      <td>1962.0</td>\n",
       "      <td>F</td>\n",
       "      <td>ME</td>\n",
       "    </tr>\n",
       "    <tr>\n",
       "      <th>1</th>\n",
       "      <td>16445</td>\n",
       "      <td>axt01951</td>\n",
       "      <td>2019-09-25</td>\n",
       "      <td>1962.0</td>\n",
       "      <td>F</td>\n",
       "      <td>ME</td>\n",
       "    </tr>\n",
       "    <tr>\n",
       "      <th>2</th>\n",
       "      <td>16445</td>\n",
       "      <td>axt01951</td>\n",
       "      <td>2019-02-12</td>\n",
       "      <td>1962.0</td>\n",
       "      <td>F</td>\n",
       "      <td>ME</td>\n",
       "    </tr>\n",
       "    <tr>\n",
       "      <th>3</th>\n",
       "      <td>16445</td>\n",
       "      <td>axt01951</td>\n",
       "      <td>2019-11-07</td>\n",
       "      <td>1962.0</td>\n",
       "      <td>F</td>\n",
       "      <td>ME</td>\n",
       "    </tr>\n",
       "    <tr>\n",
       "      <th>4</th>\n",
       "      <td>16445</td>\n",
       "      <td>axt01951</td>\n",
       "      <td>2019-04-17</td>\n",
       "      <td>1962.0</td>\n",
       "      <td>F</td>\n",
       "      <td>ME</td>\n",
       "    </tr>\n",
       "    <tr>\n",
       "      <th>...</th>\n",
       "      <td>...</td>\n",
       "      <td>...</td>\n",
       "      <td>...</td>\n",
       "      <td>...</td>\n",
       "      <td>...</td>\n",
       "      <td>...</td>\n",
       "    </tr>\n",
       "    <tr>\n",
       "      <th>724319</th>\n",
       "      <td>39834</td>\n",
       "      <td>axt08305</td>\n",
       "      <td>2020-01-08</td>\n",
       "      <td>1995.0</td>\n",
       "      <td>M</td>\n",
       "      <td>VA</td>\n",
       "    </tr>\n",
       "    <tr>\n",
       "      <th>724320</th>\n",
       "      <td>39850</td>\n",
       "      <td>axt09038</td>\n",
       "      <td>2019-10-01</td>\n",
       "      <td>1949.0</td>\n",
       "      <td>F</td>\n",
       "      <td>NY</td>\n",
       "    </tr>\n",
       "    <tr>\n",
       "      <th>724321</th>\n",
       "      <td>39850</td>\n",
       "      <td>axt09038</td>\n",
       "      <td>2019-01-31</td>\n",
       "      <td>1949.0</td>\n",
       "      <td>F</td>\n",
       "      <td>NY</td>\n",
       "    </tr>\n",
       "    <tr>\n",
       "      <th>724322</th>\n",
       "      <td>39850</td>\n",
       "      <td>axt09038</td>\n",
       "      <td>2019-07-07</td>\n",
       "      <td>1949.0</td>\n",
       "      <td>F</td>\n",
       "      <td>NY</td>\n",
       "    </tr>\n",
       "    <tr>\n",
       "      <th>724323</th>\n",
       "      <td>39850</td>\n",
       "      <td>axt09038</td>\n",
       "      <td>2019-06-09</td>\n",
       "      <td>1949.0</td>\n",
       "      <td>F</td>\n",
       "      <td>NY</td>\n",
       "    </tr>\n",
       "  </tbody>\n",
       "</table>\n",
       "<p>724324 rows × 6 columns</p>\n",
       "</div>"
      ],
      "text/plain": [
       "        Patient ID Physician_ID Date_of_Visit  Year of Birth Gender  \\\n",
       "0            16445     axt01951    2020-01-12         1962.0      F   \n",
       "1            16445     axt01951    2019-09-25         1962.0      F   \n",
       "2            16445     axt01951    2019-02-12         1962.0      F   \n",
       "3            16445     axt01951    2019-11-07         1962.0      F   \n",
       "4            16445     axt01951    2019-04-17         1962.0      F   \n",
       "...            ...          ...           ...            ...    ...   \n",
       "724319       39834     axt08305    2020-01-08         1995.0      M   \n",
       "724320       39850     axt09038    2019-10-01         1949.0      F   \n",
       "724321       39850     axt09038    2019-01-31         1949.0      F   \n",
       "724322       39850     axt09038    2019-07-07         1949.0      F   \n",
       "724323       39850     axt09038    2019-06-09         1949.0      F   \n",
       "\n",
       "       Geographical_State  \n",
       "0                      ME  \n",
       "1                      ME  \n",
       "2                      ME  \n",
       "3                      ME  \n",
       "4                      ME  \n",
       "...                   ...  \n",
       "724319                 VA  \n",
       "724320                 NY  \n",
       "724321                 NY  \n",
       "724322                 NY  \n",
       "724323                 NY  \n",
       "\n",
       "[724324 rows x 6 columns]"
      ]
     },
     "execution_count": 6,
     "metadata": {},
     "output_type": "execute_result"
    }
   ],
   "source": [
    "patient"
   ]
  },
  {
   "cell_type": "code",
   "execution_count": 7,
   "metadata": {
    "colab": {
     "base_uri": "https://localhost:8080/",
     "height": 270
    },
    "id": "s55eDNyBxBsn",
    "outputId": "c61c6813-dac2-4f7c-cc25-45abe92a86d6"
   },
   "outputs": [
    {
     "data": {
      "text/html": [
       "<div>\n",
       "<style scoped>\n",
       "    .dataframe tbody tr th:only-of-type {\n",
       "        vertical-align: middle;\n",
       "    }\n",
       "\n",
       "    .dataframe tbody tr th {\n",
       "        vertical-align: top;\n",
       "    }\n",
       "\n",
       "    .dataframe thead th {\n",
       "        text-align: right;\n",
       "    }\n",
       "</style>\n",
       "<table border=\"1\" class=\"dataframe\">\n",
       "  <thead>\n",
       "    <tr style=\"text-align: right;\">\n",
       "      <th></th>\n",
       "      <th>Physician_ID</th>\n",
       "      <th>Time_Period</th>\n",
       "      <th>Brand_Rx</th>\n",
       "      <th>Market_Rx</th>\n",
       "      <th>Sales_Rep_Calls</th>\n",
       "      <th>Samples_Dropped</th>\n",
       "      <th>Physician_Segment</th>\n",
       "      <th>Emails_Delivered</th>\n",
       "      <th>Speaker_Programs_Attended</th>\n",
       "      <th>Vouchers_Dropped</th>\n",
       "      <th>Specialty</th>\n",
       "    </tr>\n",
       "  </thead>\n",
       "  <tbody>\n",
       "    <tr>\n",
       "      <th>0</th>\n",
       "      <td>axt00001</td>\n",
       "      <td>20190104</td>\n",
       "      <td>0.0</td>\n",
       "      <td>2.80567</td>\n",
       "      <td>1</td>\n",
       "      <td>0</td>\n",
       "      <td>3-Low</td>\n",
       "      <td>0</td>\n",
       "      <td>0</td>\n",
       "      <td>0</td>\n",
       "      <td>Dermatologist</td>\n",
       "    </tr>\n",
       "    <tr>\n",
       "      <th>1</th>\n",
       "      <td>axt00001</td>\n",
       "      <td>20190111</td>\n",
       "      <td>0.0</td>\n",
       "      <td>20.57312</td>\n",
       "      <td>1</td>\n",
       "      <td>0</td>\n",
       "      <td>3-Low</td>\n",
       "      <td>0</td>\n",
       "      <td>0</td>\n",
       "      <td>0</td>\n",
       "      <td>Dermatologist</td>\n",
       "    </tr>\n",
       "    <tr>\n",
       "      <th>2</th>\n",
       "      <td>axt00001</td>\n",
       "      <td>20190118</td>\n",
       "      <td>0.0</td>\n",
       "      <td>6.16010</td>\n",
       "      <td>1</td>\n",
       "      <td>0</td>\n",
       "      <td>3-Low</td>\n",
       "      <td>0</td>\n",
       "      <td>0</td>\n",
       "      <td>0</td>\n",
       "      <td>Dermatologist</td>\n",
       "    </tr>\n",
       "    <tr>\n",
       "      <th>3</th>\n",
       "      <td>axt00001</td>\n",
       "      <td>20190125</td>\n",
       "      <td>0.0</td>\n",
       "      <td>8.95501</td>\n",
       "      <td>1</td>\n",
       "      <td>5</td>\n",
       "      <td>3-Low</td>\n",
       "      <td>0</td>\n",
       "      <td>0</td>\n",
       "      <td>0</td>\n",
       "      <td>Dermatologist</td>\n",
       "    </tr>\n",
       "    <tr>\n",
       "      <th>4</th>\n",
       "      <td>axt00001</td>\n",
       "      <td>20190201</td>\n",
       "      <td>0.0</td>\n",
       "      <td>9.13793</td>\n",
       "      <td>1</td>\n",
       "      <td>0</td>\n",
       "      <td>3-Low</td>\n",
       "      <td>0</td>\n",
       "      <td>0</td>\n",
       "      <td>0</td>\n",
       "      <td>Dermatologist</td>\n",
       "    </tr>\n",
       "  </tbody>\n",
       "</table>\n",
       "</div>"
      ],
      "text/plain": [
       "  Physician_ID  Time_Period  Brand_Rx  Market_Rx  Sales_Rep_Calls  \\\n",
       "0     axt00001     20190104       0.0    2.80567                1   \n",
       "1     axt00001     20190111       0.0   20.57312                1   \n",
       "2     axt00001     20190118       0.0    6.16010                1   \n",
       "3     axt00001     20190125       0.0    8.95501                1   \n",
       "4     axt00001     20190201       0.0    9.13793                1   \n",
       "\n",
       "   Samples_Dropped Physician_Segment  Emails_Delivered  \\\n",
       "0                0             3-Low                 0   \n",
       "1                0             3-Low                 0   \n",
       "2                0             3-Low                 0   \n",
       "3                5             3-Low                 0   \n",
       "4                0             3-Low                 0   \n",
       "\n",
       "   Speaker_Programs_Attended  Vouchers_Dropped      Specialty  \n",
       "0                          0                 0  Dermatologist  \n",
       "1                          0                 0  Dermatologist  \n",
       "2                          0                 0  Dermatologist  \n",
       "3                          0                 0  Dermatologist  \n",
       "4                          0                 0  Dermatologist  "
      ]
     },
     "execution_count": 7,
     "metadata": {},
     "output_type": "execute_result"
    }
   ],
   "source": [
    "hcp.head()"
   ]
  },
  {
   "cell_type": "code",
   "execution_count": 8,
   "metadata": {
    "id": "8kcJTWSKwadj"
   },
   "outputs": [],
   "source": [
    "import datetime"
   ]
  },
  {
   "cell_type": "code",
   "execution_count": 9,
   "metadata": {
    "id": "Q7ueO30MwaaW"
   },
   "outputs": [],
   "source": [
    "current_date=datetime.datetime.now()"
   ]
  },
  {
   "cell_type": "code",
   "execution_count": 10,
   "metadata": {
    "colab": {
     "base_uri": "https://localhost:8080/"
    },
    "id": "MwUY-pttwaYG",
    "outputId": "cf9e807c-df26-4265-c9a0-e9b8cadd3eb9"
   },
   "outputs": [
    {
     "data": {
      "text/plain": [
       "datetime.datetime(2022, 12, 28, 20, 54, 6, 36306)"
      ]
     },
     "execution_count": 10,
     "metadata": {},
     "output_type": "execute_result"
    }
   ],
   "source": [
    "current_date"
   ]
  },
  {
   "cell_type": "code",
   "execution_count": 11,
   "metadata": {
    "colab": {
     "base_uri": "https://localhost:8080/",
     "height": 36
    },
    "id": "znubrpNdzMqz",
    "outputId": "7482049b-a61b-4866-e148-72dc102b702a"
   },
   "outputs": [
    {
     "data": {
      "text/plain": [
       "'ankitanuragi'"
      ]
     },
     "execution_count": 11,
     "metadata": {},
     "output_type": "execute_result"
    }
   ],
   "source": [
    "l=[\"ankit\",\"anuragi\"]\n",
    "b=\"\".join(l)\n",
    "b"
   ]
  },
  {
   "cell_type": "code",
   "execution_count": 12,
   "metadata": {
    "id": "r7Y-7n3OwaS6"
   },
   "outputs": [],
   "source": [
    "l=[]\n",
    "for i in patient[\"Date_of_Visit\"]:\n",
    "  i=str(i)\n",
    "  i=i[:10]\n",
    "  a=i.split(\"-\")\n",
    "  s=\"\".join(a)\n",
    "  l.append(int(s))\n",
    "\n"
   ]
  },
  {
   "cell_type": "code",
   "execution_count": 13,
   "metadata": {
    "id": "Q3Bnw3qswaQF"
   },
   "outputs": [],
   "source": [
    "patient[\"Date_of_Visit\"]=l"
   ]
  },
  {
   "cell_type": "code",
   "execution_count": null,
   "metadata": {
    "id": "fWz-G6A7waNZ"
   },
   "outputs": [],
   "source": []
  },
  {
   "cell_type": "code",
   "execution_count": 14,
   "metadata": {
    "id": "8j_axMvJWU_h"
   },
   "outputs": [],
   "source": [
    "#hcp[\"Time_Period\"]=pd.to_datetime(hcp[\"Time_Period\"],infer_datetime_format=True)"
   ]
  },
  {
   "cell_type": "code",
   "execution_count": 15,
   "metadata": {
    "colab": {
     "base_uri": "https://localhost:8080/"
    },
    "id": "f2fjd44PWU77",
    "outputId": "880ce557-17fa-46e1-d33e-6847ae69a0bf"
   },
   "outputs": [
    {
     "data": {
      "text/plain": [
       "57"
      ]
     },
     "execution_count": 15,
     "metadata": {},
     "output_type": "execute_result"
    }
   ],
   "source": [
    "len(hcp[\"Time_Period\"].unique())"
   ]
  },
  {
   "cell_type": "code",
   "execution_count": 16,
   "metadata": {
    "id": "xLCDMTnnWU5z"
   },
   "outputs": [],
   "source": [
    "temp=list(hcp[\"Time_Period\"].unique())"
   ]
  },
  {
   "cell_type": "code",
   "execution_count": 17,
   "metadata": {
    "colab": {
     "base_uri": "https://localhost:8080/"
    },
    "id": "CGyKwXi1YRQV",
    "outputId": "6d8dbd41-9ef4-4942-948b-2b6dcdd622a4"
   },
   "outputs": [
    {
     "data": {
      "text/plain": [
       "[20190104,\n",
       " 20190111,\n",
       " 20190118,\n",
       " 20190125,\n",
       " 20190201,\n",
       " 20190208,\n",
       " 20190215,\n",
       " 20190222,\n",
       " 20190301,\n",
       " 20190308,\n",
       " 20190315,\n",
       " 20190322,\n",
       " 20190329,\n",
       " 20190405,\n",
       " 20190412,\n",
       " 20190419,\n",
       " 20190426,\n",
       " 20190503,\n",
       " 20190510,\n",
       " 20190517,\n",
       " 20190524,\n",
       " 20190531,\n",
       " 20190607,\n",
       " 20190614,\n",
       " 20190621,\n",
       " 20190628,\n",
       " 20190705,\n",
       " 20190712,\n",
       " 20190719,\n",
       " 20190726,\n",
       " 20190802,\n",
       " 20190809,\n",
       " 20190816,\n",
       " 20190823,\n",
       " 20190830,\n",
       " 20190906,\n",
       " 20190913,\n",
       " 20190920,\n",
       " 20190927,\n",
       " 20191004,\n",
       " 20191011,\n",
       " 20191018,\n",
       " 20191025,\n",
       " 20191101,\n",
       " 20191108,\n",
       " 20191115,\n",
       " 20191122,\n",
       " 20191129,\n",
       " 20191206,\n",
       " 20191213,\n",
       " 20191220,\n",
       " 20191227,\n",
       " 20200103,\n",
       " 20200110,\n",
       " 20200117,\n",
       " 20200124,\n",
       " 20200131]"
      ]
     },
     "execution_count": 17,
     "metadata": {},
     "output_type": "execute_result"
    }
   ],
   "source": [
    "temp"
   ]
  },
  {
   "cell_type": "code",
   "execution_count": 18,
   "metadata": {
    "colab": {
     "base_uri": "https://localhost:8080/"
    },
    "id": "2dtZLyOBWU2-",
    "outputId": "5e9c3450-b553-42e1-d7fb-b440219aa489"
   },
   "outputs": [
    {
     "data": {
      "text/plain": [
       "[20180101,\n",
       " 20190104,\n",
       " 20190111,\n",
       " 20190118,\n",
       " 20190125,\n",
       " 20190201,\n",
       " 20190208,\n",
       " 20190215,\n",
       " 20190222,\n",
       " 20190301,\n",
       " 20190308,\n",
       " 20190315,\n",
       " 20190322,\n",
       " 20190329,\n",
       " 20190405,\n",
       " 20190412,\n",
       " 20190419,\n",
       " 20190426,\n",
       " 20190503,\n",
       " 20190510,\n",
       " 20190517,\n",
       " 20190524,\n",
       " 20190531,\n",
       " 20190607,\n",
       " 20190614,\n",
       " 20190621,\n",
       " 20190628,\n",
       " 20190705,\n",
       " 20190712,\n",
       " 20190719,\n",
       " 20190726,\n",
       " 20190802,\n",
       " 20190809,\n",
       " 20190816,\n",
       " 20190823,\n",
       " 20190830,\n",
       " 20190906,\n",
       " 20190913,\n",
       " 20190920,\n",
       " 20190927,\n",
       " 20191004,\n",
       " 20191011,\n",
       " 20191018,\n",
       " 20191025,\n",
       " 20191101,\n",
       " 20191108,\n",
       " 20191115,\n",
       " 20191122,\n",
       " 20191129,\n",
       " 20191206,\n",
       " 20191213,\n",
       " 20191220,\n",
       " 20191227,\n",
       " 20200103,\n",
       " 20200110,\n",
       " 20200117,\n",
       " 20200124,\n",
       " 20200131]"
      ]
     },
     "execution_count": 18,
     "metadata": {},
     "output_type": "execute_result"
    }
   ],
   "source": [
    "temp.insert(0,20180101)\n",
    "temp\n"
   ]
  },
  {
   "cell_type": "code",
   "execution_count": 19,
   "metadata": {
    "id": "9b4XlMKVnTmd"
   },
   "outputs": [],
   "source": [
    "#hcp[\"Physician_ID\"].unique()"
   ]
  },
  {
   "cell_type": "code",
   "execution_count": 20,
   "metadata": {
    "id": "qnfJfp22q2yU"
   },
   "outputs": [],
   "source": [
    "#patient[\"Date_to_Visit\"]=pd.to_datetime(patient[\"Date_of_Visit\"],infer_datetime_format=True)"
   ]
  },
  {
   "cell_type": "code",
   "execution_count": 21,
   "metadata": {},
   "outputs": [
    {
     "data": {
      "text/plain": [
       "array(['F', 'M', 'U'], dtype=object)"
      ]
     },
     "execution_count": 21,
     "metadata": {},
     "output_type": "execute_result"
    }
   ],
   "source": [
    "patient.Gender.unique()"
   ]
  },
  {
   "cell_type": "code",
   "execution_count": 22,
   "metadata": {
    "colab": {
     "base_uri": "https://localhost:8080/"
    },
    "id": "7Ls0dkBx2Au2",
    "outputId": "87f75490-f40c-40b1-b5ca-67a70afde1d2"
   },
   "outputs": [
    {
     "data": {
      "text/plain": [
       "0         20200112\n",
       "1         20190925\n",
       "2         20190212\n",
       "3         20191107\n",
       "4         20190417\n",
       "            ...   \n",
       "724319    20200108\n",
       "724320    20191001\n",
       "724321    20190131\n",
       "724322    20190707\n",
       "724323    20190609\n",
       "Name: Date_of_Visit, Length: 724324, dtype: int64"
      ]
     },
     "execution_count": 22,
     "metadata": {},
     "output_type": "execute_result"
    }
   ],
   "source": [
    "patient.Date_of_Visit"
   ]
  },
  {
   "cell_type": "code",
   "execution_count": 23,
   "metadata": {
    "id": "ox0CgZVjE08u"
   },
   "outputs": [],
   "source": [
    "hcp[\"Mean\"]=len(hcp)*[0]"
   ]
  },
  {
   "cell_type": "code",
   "execution_count": 24,
   "metadata": {
    "id": "YN-z4EPnE058",
    "scrolled": false
   },
   "outputs": [
    {
     "data": {
      "text/html": [
       "<div>\n",
       "<style scoped>\n",
       "    .dataframe tbody tr th:only-of-type {\n",
       "        vertical-align: middle;\n",
       "    }\n",
       "\n",
       "    .dataframe tbody tr th {\n",
       "        vertical-align: top;\n",
       "    }\n",
       "\n",
       "    .dataframe thead th {\n",
       "        text-align: right;\n",
       "    }\n",
       "</style>\n",
       "<table border=\"1\" class=\"dataframe\">\n",
       "  <thead>\n",
       "    <tr style=\"text-align: right;\">\n",
       "      <th></th>\n",
       "      <th>Physician_ID</th>\n",
       "      <th>Time_Period</th>\n",
       "      <th>Brand_Rx</th>\n",
       "      <th>Market_Rx</th>\n",
       "      <th>Sales_Rep_Calls</th>\n",
       "      <th>Samples_Dropped</th>\n",
       "      <th>Physician_Segment</th>\n",
       "      <th>Emails_Delivered</th>\n",
       "      <th>Speaker_Programs_Attended</th>\n",
       "      <th>Vouchers_Dropped</th>\n",
       "      <th>Specialty</th>\n",
       "      <th>Mean</th>\n",
       "    </tr>\n",
       "  </thead>\n",
       "  <tbody>\n",
       "    <tr>\n",
       "      <th>0</th>\n",
       "      <td>axt00001</td>\n",
       "      <td>20190104</td>\n",
       "      <td>0.0</td>\n",
       "      <td>2.80567</td>\n",
       "      <td>1</td>\n",
       "      <td>0</td>\n",
       "      <td>3-Low</td>\n",
       "      <td>0</td>\n",
       "      <td>0</td>\n",
       "      <td>0</td>\n",
       "      <td>Dermatologist</td>\n",
       "      <td>0</td>\n",
       "    </tr>\n",
       "    <tr>\n",
       "      <th>1</th>\n",
       "      <td>axt00001</td>\n",
       "      <td>20190111</td>\n",
       "      <td>0.0</td>\n",
       "      <td>20.57312</td>\n",
       "      <td>1</td>\n",
       "      <td>0</td>\n",
       "      <td>3-Low</td>\n",
       "      <td>0</td>\n",
       "      <td>0</td>\n",
       "      <td>0</td>\n",
       "      <td>Dermatologist</td>\n",
       "      <td>0</td>\n",
       "    </tr>\n",
       "    <tr>\n",
       "      <th>2</th>\n",
       "      <td>axt00001</td>\n",
       "      <td>20190118</td>\n",
       "      <td>0.0</td>\n",
       "      <td>6.16010</td>\n",
       "      <td>1</td>\n",
       "      <td>0</td>\n",
       "      <td>3-Low</td>\n",
       "      <td>0</td>\n",
       "      <td>0</td>\n",
       "      <td>0</td>\n",
       "      <td>Dermatologist</td>\n",
       "      <td>0</td>\n",
       "    </tr>\n",
       "    <tr>\n",
       "      <th>3</th>\n",
       "      <td>axt00001</td>\n",
       "      <td>20190125</td>\n",
       "      <td>0.0</td>\n",
       "      <td>8.95501</td>\n",
       "      <td>1</td>\n",
       "      <td>5</td>\n",
       "      <td>3-Low</td>\n",
       "      <td>0</td>\n",
       "      <td>0</td>\n",
       "      <td>0</td>\n",
       "      <td>Dermatologist</td>\n",
       "      <td>0</td>\n",
       "    </tr>\n",
       "    <tr>\n",
       "      <th>4</th>\n",
       "      <td>axt00001</td>\n",
       "      <td>20190201</td>\n",
       "      <td>0.0</td>\n",
       "      <td>9.13793</td>\n",
       "      <td>1</td>\n",
       "      <td>0</td>\n",
       "      <td>3-Low</td>\n",
       "      <td>0</td>\n",
       "      <td>0</td>\n",
       "      <td>0</td>\n",
       "      <td>Dermatologist</td>\n",
       "      <td>0</td>\n",
       "    </tr>\n",
       "    <tr>\n",
       "      <th>...</th>\n",
       "      <td>...</td>\n",
       "      <td>...</td>\n",
       "      <td>...</td>\n",
       "      <td>...</td>\n",
       "      <td>...</td>\n",
       "      <td>...</td>\n",
       "      <td>...</td>\n",
       "      <td>...</td>\n",
       "      <td>...</td>\n",
       "      <td>...</td>\n",
       "      <td>...</td>\n",
       "      <td>...</td>\n",
       "    </tr>\n",
       "    <tr>\n",
       "      <th>569995</th>\n",
       "      <td>axt10000</td>\n",
       "      <td>20200103</td>\n",
       "      <td>0.0</td>\n",
       "      <td>2.45597</td>\n",
       "      <td>0</td>\n",
       "      <td>0</td>\n",
       "      <td>3-Low</td>\n",
       "      <td>1</td>\n",
       "      <td>0</td>\n",
       "      <td>0</td>\n",
       "      <td>Dermatologist</td>\n",
       "      <td>0</td>\n",
       "    </tr>\n",
       "    <tr>\n",
       "      <th>569996</th>\n",
       "      <td>axt10000</td>\n",
       "      <td>20200110</td>\n",
       "      <td>0.0</td>\n",
       "      <td>2.38065</td>\n",
       "      <td>0</td>\n",
       "      <td>0</td>\n",
       "      <td>3-Low</td>\n",
       "      <td>0</td>\n",
       "      <td>0</td>\n",
       "      <td>0</td>\n",
       "      <td>Dermatologist</td>\n",
       "      <td>0</td>\n",
       "    </tr>\n",
       "    <tr>\n",
       "      <th>569997</th>\n",
       "      <td>axt10000</td>\n",
       "      <td>20200117</td>\n",
       "      <td>0.0</td>\n",
       "      <td>7.42171</td>\n",
       "      <td>0</td>\n",
       "      <td>0</td>\n",
       "      <td>3-Low</td>\n",
       "      <td>1</td>\n",
       "      <td>0</td>\n",
       "      <td>0</td>\n",
       "      <td>Dermatologist</td>\n",
       "      <td>0</td>\n",
       "    </tr>\n",
       "    <tr>\n",
       "      <th>569998</th>\n",
       "      <td>axt10000</td>\n",
       "      <td>20200124</td>\n",
       "      <td>0.0</td>\n",
       "      <td>5.39345</td>\n",
       "      <td>0</td>\n",
       "      <td>0</td>\n",
       "      <td>3-Low</td>\n",
       "      <td>1</td>\n",
       "      <td>0</td>\n",
       "      <td>0</td>\n",
       "      <td>Dermatologist</td>\n",
       "      <td>0</td>\n",
       "    </tr>\n",
       "    <tr>\n",
       "      <th>569999</th>\n",
       "      <td>axt10000</td>\n",
       "      <td>20200131</td>\n",
       "      <td>0.0</td>\n",
       "      <td>0.00000</td>\n",
       "      <td>0</td>\n",
       "      <td>0</td>\n",
       "      <td>3-Low</td>\n",
       "      <td>0</td>\n",
       "      <td>0</td>\n",
       "      <td>0</td>\n",
       "      <td>Dermatologist</td>\n",
       "      <td>0</td>\n",
       "    </tr>\n",
       "  </tbody>\n",
       "</table>\n",
       "<p>570000 rows × 12 columns</p>\n",
       "</div>"
      ],
      "text/plain": [
       "       Physician_ID  Time_Period  Brand_Rx  Market_Rx  Sales_Rep_Calls  \\\n",
       "0          axt00001     20190104       0.0    2.80567                1   \n",
       "1          axt00001     20190111       0.0   20.57312                1   \n",
       "2          axt00001     20190118       0.0    6.16010                1   \n",
       "3          axt00001     20190125       0.0    8.95501                1   \n",
       "4          axt00001     20190201       0.0    9.13793                1   \n",
       "...             ...          ...       ...        ...              ...   \n",
       "569995     axt10000     20200103       0.0    2.45597                0   \n",
       "569996     axt10000     20200110       0.0    2.38065                0   \n",
       "569997     axt10000     20200117       0.0    7.42171                0   \n",
       "569998     axt10000     20200124       0.0    5.39345                0   \n",
       "569999     axt10000     20200131       0.0    0.00000                0   \n",
       "\n",
       "        Samples_Dropped Physician_Segment  Emails_Delivered  \\\n",
       "0                     0             3-Low                 0   \n",
       "1                     0             3-Low                 0   \n",
       "2                     0             3-Low                 0   \n",
       "3                     5             3-Low                 0   \n",
       "4                     0             3-Low                 0   \n",
       "...                 ...               ...               ...   \n",
       "569995                0             3-Low                 1   \n",
       "569996                0             3-Low                 0   \n",
       "569997                0             3-Low                 1   \n",
       "569998                0             3-Low                 1   \n",
       "569999                0             3-Low                 0   \n",
       "\n",
       "        Speaker_Programs_Attended  Vouchers_Dropped      Specialty  Mean  \n",
       "0                               0                 0  Dermatologist     0  \n",
       "1                               0                 0  Dermatologist     0  \n",
       "2                               0                 0  Dermatologist     0  \n",
       "3                               0                 0  Dermatologist     0  \n",
       "4                               0                 0  Dermatologist     0  \n",
       "...                           ...               ...            ...   ...  \n",
       "569995                          0                 0  Dermatologist     0  \n",
       "569996                          0                 0  Dermatologist     0  \n",
       "569997                          0                 0  Dermatologist     0  \n",
       "569998                          0                 0  Dermatologist     0  \n",
       "569999                          0                 0  Dermatologist     0  \n",
       "\n",
       "[570000 rows x 12 columns]"
      ]
     },
     "execution_count": 24,
     "metadata": {},
     "output_type": "execute_result"
    }
   ],
   "source": [
    "hcp"
   ]
  },
  {
   "cell_type": "code",
   "execution_count": 25,
   "metadata": {},
   "outputs": [],
   "source": [
    "hcp[\"Year_of_birth\"]=len(hcp)*[0]"
   ]
  },
  {
   "cell_type": "code",
   "execution_count": 26,
   "metadata": {},
   "outputs": [
    {
     "data": {
      "text/html": [
       "<div>\n",
       "<style scoped>\n",
       "    .dataframe tbody tr th:only-of-type {\n",
       "        vertical-align: middle;\n",
       "    }\n",
       "\n",
       "    .dataframe tbody tr th {\n",
       "        vertical-align: top;\n",
       "    }\n",
       "\n",
       "    .dataframe thead th {\n",
       "        text-align: right;\n",
       "    }\n",
       "</style>\n",
       "<table border=\"1\" class=\"dataframe\">\n",
       "  <thead>\n",
       "    <tr style=\"text-align: right;\">\n",
       "      <th></th>\n",
       "      <th>Physician_ID</th>\n",
       "      <th>Time_Period</th>\n",
       "      <th>Brand_Rx</th>\n",
       "      <th>Market_Rx</th>\n",
       "      <th>Sales_Rep_Calls</th>\n",
       "      <th>Samples_Dropped</th>\n",
       "      <th>Physician_Segment</th>\n",
       "      <th>Emails_Delivered</th>\n",
       "      <th>Speaker_Programs_Attended</th>\n",
       "      <th>Vouchers_Dropped</th>\n",
       "      <th>Specialty</th>\n",
       "      <th>Mean</th>\n",
       "      <th>Year_of_birth</th>\n",
       "    </tr>\n",
       "  </thead>\n",
       "  <tbody>\n",
       "    <tr>\n",
       "      <th>0</th>\n",
       "      <td>axt00001</td>\n",
       "      <td>20190104</td>\n",
       "      <td>0.0</td>\n",
       "      <td>2.80567</td>\n",
       "      <td>1</td>\n",
       "      <td>0</td>\n",
       "      <td>3-Low</td>\n",
       "      <td>0</td>\n",
       "      <td>0</td>\n",
       "      <td>0</td>\n",
       "      <td>Dermatologist</td>\n",
       "      <td>0</td>\n",
       "      <td>0</td>\n",
       "    </tr>\n",
       "    <tr>\n",
       "      <th>1</th>\n",
       "      <td>axt00001</td>\n",
       "      <td>20190111</td>\n",
       "      <td>0.0</td>\n",
       "      <td>20.57312</td>\n",
       "      <td>1</td>\n",
       "      <td>0</td>\n",
       "      <td>3-Low</td>\n",
       "      <td>0</td>\n",
       "      <td>0</td>\n",
       "      <td>0</td>\n",
       "      <td>Dermatologist</td>\n",
       "      <td>0</td>\n",
       "      <td>0</td>\n",
       "    </tr>\n",
       "    <tr>\n",
       "      <th>2</th>\n",
       "      <td>axt00001</td>\n",
       "      <td>20190118</td>\n",
       "      <td>0.0</td>\n",
       "      <td>6.16010</td>\n",
       "      <td>1</td>\n",
       "      <td>0</td>\n",
       "      <td>3-Low</td>\n",
       "      <td>0</td>\n",
       "      <td>0</td>\n",
       "      <td>0</td>\n",
       "      <td>Dermatologist</td>\n",
       "      <td>0</td>\n",
       "      <td>0</td>\n",
       "    </tr>\n",
       "    <tr>\n",
       "      <th>3</th>\n",
       "      <td>axt00001</td>\n",
       "      <td>20190125</td>\n",
       "      <td>0.0</td>\n",
       "      <td>8.95501</td>\n",
       "      <td>1</td>\n",
       "      <td>5</td>\n",
       "      <td>3-Low</td>\n",
       "      <td>0</td>\n",
       "      <td>0</td>\n",
       "      <td>0</td>\n",
       "      <td>Dermatologist</td>\n",
       "      <td>0</td>\n",
       "      <td>0</td>\n",
       "    </tr>\n",
       "    <tr>\n",
       "      <th>4</th>\n",
       "      <td>axt00001</td>\n",
       "      <td>20190201</td>\n",
       "      <td>0.0</td>\n",
       "      <td>9.13793</td>\n",
       "      <td>1</td>\n",
       "      <td>0</td>\n",
       "      <td>3-Low</td>\n",
       "      <td>0</td>\n",
       "      <td>0</td>\n",
       "      <td>0</td>\n",
       "      <td>Dermatologist</td>\n",
       "      <td>0</td>\n",
       "      <td>0</td>\n",
       "    </tr>\n",
       "  </tbody>\n",
       "</table>\n",
       "</div>"
      ],
      "text/plain": [
       "  Physician_ID  Time_Period  Brand_Rx  Market_Rx  Sales_Rep_Calls  \\\n",
       "0     axt00001     20190104       0.0    2.80567                1   \n",
       "1     axt00001     20190111       0.0   20.57312                1   \n",
       "2     axt00001     20190118       0.0    6.16010                1   \n",
       "3     axt00001     20190125       0.0    8.95501                1   \n",
       "4     axt00001     20190201       0.0    9.13793                1   \n",
       "\n",
       "   Samples_Dropped Physician_Segment  Emails_Delivered  \\\n",
       "0                0             3-Low                 0   \n",
       "1                0             3-Low                 0   \n",
       "2                0             3-Low                 0   \n",
       "3                5             3-Low                 0   \n",
       "4                0             3-Low                 0   \n",
       "\n",
       "   Speaker_Programs_Attended  Vouchers_Dropped      Specialty  Mean  \\\n",
       "0                          0                 0  Dermatologist     0   \n",
       "1                          0                 0  Dermatologist     0   \n",
       "2                          0                 0  Dermatologist     0   \n",
       "3                          0                 0  Dermatologist     0   \n",
       "4                          0                 0  Dermatologist     0   \n",
       "\n",
       "   Year_of_birth  \n",
       "0              0  \n",
       "1              0  \n",
       "2              0  \n",
       "3              0  \n",
       "4              0  "
      ]
     },
     "execution_count": 26,
     "metadata": {},
     "output_type": "execute_result"
    }
   ],
   "source": [
    "hcp.head()"
   ]
  },
  {
   "cell_type": "code",
   "execution_count": 27,
   "metadata": {},
   "outputs": [
    {
     "data": {
      "text/html": [
       "<div>\n",
       "<style scoped>\n",
       "    .dataframe tbody tr th:only-of-type {\n",
       "        vertical-align: middle;\n",
       "    }\n",
       "\n",
       "    .dataframe tbody tr th {\n",
       "        vertical-align: top;\n",
       "    }\n",
       "\n",
       "    .dataframe thead th {\n",
       "        text-align: right;\n",
       "    }\n",
       "</style>\n",
       "<table border=\"1\" class=\"dataframe\">\n",
       "  <thead>\n",
       "    <tr style=\"text-align: right;\">\n",
       "      <th></th>\n",
       "      <th>Patient ID</th>\n",
       "      <th>Physician_ID</th>\n",
       "      <th>Date_of_Visit</th>\n",
       "      <th>Year of Birth</th>\n",
       "      <th>Gender</th>\n",
       "      <th>Geographical_State</th>\n",
       "    </tr>\n",
       "  </thead>\n",
       "  <tbody>\n",
       "    <tr>\n",
       "      <th>0</th>\n",
       "      <td>16445</td>\n",
       "      <td>axt01951</td>\n",
       "      <td>20200112</td>\n",
       "      <td>1962.0</td>\n",
       "      <td>F</td>\n",
       "      <td>ME</td>\n",
       "    </tr>\n",
       "    <tr>\n",
       "      <th>1</th>\n",
       "      <td>16445</td>\n",
       "      <td>axt01951</td>\n",
       "      <td>20190925</td>\n",
       "      <td>1962.0</td>\n",
       "      <td>F</td>\n",
       "      <td>ME</td>\n",
       "    </tr>\n",
       "    <tr>\n",
       "      <th>2</th>\n",
       "      <td>16445</td>\n",
       "      <td>axt01951</td>\n",
       "      <td>20190212</td>\n",
       "      <td>1962.0</td>\n",
       "      <td>F</td>\n",
       "      <td>ME</td>\n",
       "    </tr>\n",
       "    <tr>\n",
       "      <th>3</th>\n",
       "      <td>16445</td>\n",
       "      <td>axt01951</td>\n",
       "      <td>20191107</td>\n",
       "      <td>1962.0</td>\n",
       "      <td>F</td>\n",
       "      <td>ME</td>\n",
       "    </tr>\n",
       "    <tr>\n",
       "      <th>4</th>\n",
       "      <td>16445</td>\n",
       "      <td>axt01951</td>\n",
       "      <td>20190417</td>\n",
       "      <td>1962.0</td>\n",
       "      <td>F</td>\n",
       "      <td>ME</td>\n",
       "    </tr>\n",
       "  </tbody>\n",
       "</table>\n",
       "</div>"
      ],
      "text/plain": [
       "   Patient ID Physician_ID  Date_of_Visit  Year of Birth Gender  \\\n",
       "0       16445     axt01951       20200112         1962.0      F   \n",
       "1       16445     axt01951       20190925         1962.0      F   \n",
       "2       16445     axt01951       20190212         1962.0      F   \n",
       "3       16445     axt01951       20191107         1962.0      F   \n",
       "4       16445     axt01951       20190417         1962.0      F   \n",
       "\n",
       "  Geographical_State  \n",
       "0                 ME  \n",
       "1                 ME  \n",
       "2                 ME  \n",
       "3                 ME  \n",
       "4                 ME  "
      ]
     },
     "execution_count": 27,
     "metadata": {},
     "output_type": "execute_result"
    }
   ],
   "source": [
    "patient.head()"
   ]
  },
  {
   "cell_type": "code",
   "execution_count": 28,
   "metadata": {},
   "outputs": [
    {
     "data": {
      "text/plain": [
       "<AxesSubplot:ylabel='Frequency'>"
      ]
     },
     "execution_count": 28,
     "metadata": {},
     "output_type": "execute_result"
    },
    {
     "data": {
      "image/png": "[encoded data removed]",
      "text/plain": [
       "<Figure size 432x288 with 1 Axes>"
      ]
     },
     "metadata": {
      "needs_background": "light"
     },
     "output_type": "display_data"
    }
   ],
   "source": [
    "patient[\"Year of Birth\"].plot(kind=\"hist\")"
   ]
  },
  {
   "cell_type": "code",
   "execution_count": 29,
   "metadata": {},
   "outputs": [
    {
     "data": {
      "text/plain": [
       "<AxesSubplot:ylabel='Density'>"
      ]
     },
     "execution_count": 29,
     "metadata": {},
     "output_type": "execute_result"
    },
    {
     "data": {
      "image/png": "[encoded data removed]",
      "text/plain": [
       "<Figure size 432x288 with 1 Axes>"
      ]
     },
     "metadata": {
      "needs_background": "light"
     },
     "output_type": "display_data"
    }
   ],
   "source": [
    "patient[\"Year of Birth\"].plot(kind=\"kde\")"
   ]
  },
  {
   "cell_type": "code",
   "execution_count": null,
   "metadata": {},
   "outputs": [],
   "source": []
  },
  {
   "cell_type": "code",
   "execution_count": null,
   "metadata": {},
   "outputs": [],
   "source": []
  },
  {
   "cell_type": "code",
   "execution_count": null,
   "metadata": {},
   "outputs": [],
   "source": []
  },
  {
   "cell_type": "code",
   "execution_count": 34,
   "metadata": {
    "id": "Q4VePTA1oAyn"
   },
   "outputs": [],
   "source": [
    "import statistics\n",
    "L1=[]\n",
    "L2=[]\n",
    "L3=[]\n",
    "for i in range(len(temp)-1):\n",
    "    df=patient[(patient[\"Date_of_Visit\"]>temp[i]) & (patient[\"Date_of_Visit\"]<=temp[i+1])]\n",
    "    l1=[0]*10000\n",
    "    l2=[0]*10000\n",
    "    l3=[0]*10000\n",
    "    count=0\n",
    "    for j in list(hcp[\"Physician_ID\"].unique()):\n",
    "        df1=df[df[\"Physician_ID\"]==j]\n",
    "        df1=df[df[\"Physician_ID\"]==j]\n",
    "        l1[count]=len(df1)\n",
    "        if(len(df1)==0):\n",
    "            l2[count]=0\n",
    "            l3[count]=\"dont know\"\n",
    "        else:\n",
    "            l2[count]=df1[\"Year of Birth\"].median()\n",
    "            l3[count]=statistics.mode(list(df1[\"Gender\"]))\n",
    "        #print(l2[count])\n",
    "        \n",
    "        \n",
    "        count+=1\n",
    "        \n",
    "    L1.append(l1)\n",
    "    L2.append(l2)\n",
    "    L3.append(l3)\n",
    "  \n",
    "\n",
    "\n"
   ]
  },
  {
   "cell_type": "code",
   "execution_count": 38,
   "metadata": {
    "id": "aZ2h_mNH9Ivc"
   },
   "outputs": [],
   "source": [
    "hcp[\"No_of_visits\"]=len(hcp)*[0]\n",
    "hcp[\"Gender\"] = len(hcp)*[0]"
   ]
  },
  {
   "cell_type": "code",
   "execution_count": 39,
   "metadata": {
    "colab": {
     "base_uri": "https://localhost:8080/",
     "height": 270
    },
    "id": "12l7XDnx-AHb",
    "outputId": "4e28de80-65fe-4499-fdad-736125f33b87"
   },
   "outputs": [
    {
     "data": {
      "text/html": [
       "<div>\n",
       "<style scoped>\n",
       "    .dataframe tbody tr th:only-of-type {\n",
       "        vertical-align: middle;\n",
       "    }\n",
       "\n",
       "    .dataframe tbody tr th {\n",
       "        vertical-align: top;\n",
       "    }\n",
       "\n",
       "    .dataframe thead th {\n",
       "        text-align: right;\n",
       "    }\n",
       "</style>\n",
       "<table border=\"1\" class=\"dataframe\">\n",
       "  <thead>\n",
       "    <tr style=\"text-align: right;\">\n",
       "      <th></th>\n",
       "      <th>Physician_ID</th>\n",
       "      <th>Time_Period</th>\n",
       "      <th>Brand_Rx</th>\n",
       "      <th>Market_Rx</th>\n",
       "      <th>Sales_Rep_Calls</th>\n",
       "      <th>Samples_Dropped</th>\n",
       "      <th>Physician_Segment</th>\n",
       "      <th>Emails_Delivered</th>\n",
       "      <th>Speaker_Programs_Attended</th>\n",
       "      <th>Vouchers_Dropped</th>\n",
       "      <th>Specialty</th>\n",
       "      <th>Mean</th>\n",
       "      <th>Year_of_birth</th>\n",
       "      <th>No_of_visits</th>\n",
       "      <th>Gender</th>\n",
       "    </tr>\n",
       "  </thead>\n",
       "  <tbody>\n",
       "    <tr>\n",
       "      <th>0</th>\n",
       "      <td>axt00001</td>\n",
       "      <td>20190104</td>\n",
       "      <td>0.0</td>\n",
       "      <td>2.80567</td>\n",
       "      <td>1</td>\n",
       "      <td>0</td>\n",
       "      <td>3-Low</td>\n",
       "      <td>0</td>\n",
       "      <td>0</td>\n",
       "      <td>0</td>\n",
       "      <td>Dermatologist</td>\n",
       "      <td>0</td>\n",
       "      <td>0</td>\n",
       "      <td>0</td>\n",
       "      <td>0</td>\n",
       "    </tr>\n",
       "    <tr>\n",
       "      <th>1</th>\n",
       "      <td>axt00001</td>\n",
       "      <td>20190111</td>\n",
       "      <td>0.0</td>\n",
       "      <td>20.57312</td>\n",
       "      <td>1</td>\n",
       "      <td>0</td>\n",
       "      <td>3-Low</td>\n",
       "      <td>0</td>\n",
       "      <td>0</td>\n",
       "      <td>0</td>\n",
       "      <td>Dermatologist</td>\n",
       "      <td>0</td>\n",
       "      <td>0</td>\n",
       "      <td>0</td>\n",
       "      <td>0</td>\n",
       "    </tr>\n",
       "    <tr>\n",
       "      <th>2</th>\n",
       "      <td>axt00001</td>\n",
       "      <td>20190118</td>\n",
       "      <td>0.0</td>\n",
       "      <td>6.16010</td>\n",
       "      <td>1</td>\n",
       "      <td>0</td>\n",
       "      <td>3-Low</td>\n",
       "      <td>0</td>\n",
       "      <td>0</td>\n",
       "      <td>0</td>\n",
       "      <td>Dermatologist</td>\n",
       "      <td>0</td>\n",
       "      <td>0</td>\n",
       "      <td>0</td>\n",
       "      <td>0</td>\n",
       "    </tr>\n",
       "    <tr>\n",
       "      <th>3</th>\n",
       "      <td>axt00001</td>\n",
       "      <td>20190125</td>\n",
       "      <td>0.0</td>\n",
       "      <td>8.95501</td>\n",
       "      <td>1</td>\n",
       "      <td>5</td>\n",
       "      <td>3-Low</td>\n",
       "      <td>0</td>\n",
       "      <td>0</td>\n",
       "      <td>0</td>\n",
       "      <td>Dermatologist</td>\n",
       "      <td>0</td>\n",
       "      <td>0</td>\n",
       "      <td>0</td>\n",
       "      <td>0</td>\n",
       "    </tr>\n",
       "    <tr>\n",
       "      <th>4</th>\n",
       "      <td>axt00001</td>\n",
       "      <td>20190201</td>\n",
       "      <td>0.0</td>\n",
       "      <td>9.13793</td>\n",
       "      <td>1</td>\n",
       "      <td>0</td>\n",
       "      <td>3-Low</td>\n",
       "      <td>0</td>\n",
       "      <td>0</td>\n",
       "      <td>0</td>\n",
       "      <td>Dermatologist</td>\n",
       "      <td>0</td>\n",
       "      <td>0</td>\n",
       "      <td>0</td>\n",
       "      <td>0</td>\n",
       "    </tr>\n",
       "  </tbody>\n",
       "</table>\n",
       "</div>"
      ],
      "text/plain": [
       "  Physician_ID  Time_Period  Brand_Rx  Market_Rx  Sales_Rep_Calls  \\\n",
       "0     axt00001     20190104       0.0    2.80567                1   \n",
       "1     axt00001     20190111       0.0   20.57312                1   \n",
       "2     axt00001     20190118       0.0    6.16010                1   \n",
       "3     axt00001     20190125       0.0    8.95501                1   \n",
       "4     axt00001     20190201       0.0    9.13793                1   \n",
       "\n",
       "   Samples_Dropped Physician_Segment  Emails_Delivered  \\\n",
       "0                0             3-Low                 0   \n",
       "1                0             3-Low                 0   \n",
       "2                0             3-Low                 0   \n",
       "3                5             3-Low                 0   \n",
       "4                0             3-Low                 0   \n",
       "\n",
       "   Speaker_Programs_Attended  Vouchers_Dropped      Specialty  Mean  \\\n",
       "0                          0                 0  Dermatologist     0   \n",
       "1                          0                 0  Dermatologist     0   \n",
       "2                          0                 0  Dermatologist     0   \n",
       "3                          0                 0  Dermatologist     0   \n",
       "4                          0                 0  Dermatologist     0   \n",
       "\n",
       "   Year_of_birth  No_of_visits  Gender  \n",
       "0              0             0       0  \n",
       "1              0             0       0  \n",
       "2              0             0       0  \n",
       "3              0             0       0  \n",
       "4              0             0       0  "
      ]
     },
     "execution_count": 39,
     "metadata": {},
     "output_type": "execute_result"
    }
   ],
   "source": [
    "hcp.head()"
   ]
  },
  {
   "cell_type": "code",
   "execution_count": null,
   "metadata": {
    "id": "q6kZdhjs-2rI"
   },
   "outputs": [],
   "source": []
  },
  {
   "cell_type": "code",
   "execution_count": 40,
   "metadata": {
    "colab": {
     "base_uri": "https://localhost:8080/"
    },
    "id": "dedZBYA6--h1",
    "outputId": "3a6f9d93-eb33-41fa-81e0-bee36ab0f187"
   },
   "outputs": [
    {
     "name": "stderr",
     "output_type": "stream",
     "text": [
      "C:\\temp\\ipykernel_20424\\86231781.py:4: SettingWithCopyWarning: \n",
      "A value is trying to be set on a copy of a slice from a DataFrame\n",
      "\n",
      "See the caveats in the documentation: https://pandas.pydata.org/pandas-docs/stable/user_guide/indexing.html#returning-a-view-versus-a-copy\n",
      "  hcp[\"No_of_visits\"][count]=L1[j][i]\n",
      "C:\\temp\\ipykernel_20424\\86231781.py:5: SettingWithCopyWarning: \n",
      "A value is trying to be set on a copy of a slice from a DataFrame\n",
      "\n",
      "See the caveats in the documentation: https://pandas.pydata.org/pandas-docs/stable/user_guide/indexing.html#returning-a-view-versus-a-copy\n",
      "  hcp[\"Year_of_birth\"][count]=L2[j][i]\n",
      "C:\\temp\\ipykernel_20424\\86231781.py:6: SettingWithCopyWarning: \n",
      "A value is trying to be set on a copy of a slice from a DataFrame\n",
      "\n",
      "See the caveats in the documentation: https://pandas.pydata.org/pandas-docs/stable/user_guide/indexing.html#returning-a-view-versus-a-copy\n",
      "  hcp[\"Gender\"][count]=L3[j][i]\n"
     ]
    }
   ],
   "source": [
    "count=0\n",
    "for i in range(10000):\n",
    "    for j in range(57):\n",
    "        hcp[\"No_of_visits\"][count]=L1[j][i]\n",
    "        hcp[\"Year_of_birth\"][count]=L2[j][i]\n",
    "        hcp[\"Gender\"][count]=L3[j][i]\n",
    "        count+=1"
   ]
  },
  {
   "cell_type": "code",
   "execution_count": 41,
   "metadata": {
    "colab": {
     "base_uri": "https://localhost:8080/"
    },
    "id": "FxBPjgq4-BeV",
    "outputId": "822b6d0c-0b20-4aed-dbd5-b9071bf80576"
   },
   "outputs": [
    {
     "data": {
      "text/plain": [
       "57"
      ]
     },
     "execution_count": 41,
     "metadata": {},
     "output_type": "execute_result"
    }
   ],
   "source": [
    "len(hcp[\"Time_Period\"].unique())"
   ]
  },
  {
   "cell_type": "code",
   "execution_count": 42,
   "metadata": {
    "colab": {
     "base_uri": "https://localhost:8080/"
    },
    "id": "s-UJz5iS_wQz",
    "outputId": "abf64abf-5669-4dd9-b441-a9cf37990a09"
   },
   "outputs": [
    {
     "data": {
      "text/plain": [
       "570000"
      ]
     },
     "execution_count": 42,
     "metadata": {},
     "output_type": "execute_result"
    }
   ],
   "source": [
    "count"
   ]
  },
  {
   "cell_type": "code",
   "execution_count": 43,
   "metadata": {
    "colab": {
     "base_uri": "https://localhost:8080/",
     "height": 270
    },
    "id": "jr2SDHLc_wNu",
    "outputId": "a1b94a7f-bbf2-49c1-ed2e-28ba93bce03b"
   },
   "outputs": [
    {
     "data": {
      "text/html": [
       "<div>\n",
       "<style scoped>\n",
       "    .dataframe tbody tr th:only-of-type {\n",
       "        vertical-align: middle;\n",
       "    }\n",
       "\n",
       "    .dataframe tbody tr th {\n",
       "        vertical-align: top;\n",
       "    }\n",
       "\n",
       "    .dataframe thead th {\n",
       "        text-align: right;\n",
       "    }\n",
       "</style>\n",
       "<table border=\"1\" class=\"dataframe\">\n",
       "  <thead>\n",
       "    <tr style=\"text-align: right;\">\n",
       "      <th></th>\n",
       "      <th>Physician_ID</th>\n",
       "      <th>Time_Period</th>\n",
       "      <th>Brand_Rx</th>\n",
       "      <th>Market_Rx</th>\n",
       "      <th>Sales_Rep_Calls</th>\n",
       "      <th>Samples_Dropped</th>\n",
       "      <th>Physician_Segment</th>\n",
       "      <th>Emails_Delivered</th>\n",
       "      <th>Speaker_Programs_Attended</th>\n",
       "      <th>Vouchers_Dropped</th>\n",
       "      <th>Specialty</th>\n",
       "      <th>Mean</th>\n",
       "      <th>Year_of_birth</th>\n",
       "      <th>No_of_visits</th>\n",
       "      <th>Gender</th>\n",
       "    </tr>\n",
       "  </thead>\n",
       "  <tbody>\n",
       "    <tr>\n",
       "      <th>0</th>\n",
       "      <td>axt00001</td>\n",
       "      <td>20190104</td>\n",
       "      <td>0.0</td>\n",
       "      <td>2.80567</td>\n",
       "      <td>1</td>\n",
       "      <td>0</td>\n",
       "      <td>3-Low</td>\n",
       "      <td>0</td>\n",
       "      <td>0</td>\n",
       "      <td>0</td>\n",
       "      <td>Dermatologist</td>\n",
       "      <td>0</td>\n",
       "      <td>0.0</td>\n",
       "      <td>0</td>\n",
       "      <td>dont know</td>\n",
       "    </tr>\n",
       "    <tr>\n",
       "      <th>1</th>\n",
       "      <td>axt00001</td>\n",
       "      <td>20190111</td>\n",
       "      <td>0.0</td>\n",
       "      <td>20.57312</td>\n",
       "      <td>1</td>\n",
       "      <td>0</td>\n",
       "      <td>3-Low</td>\n",
       "      <td>0</td>\n",
       "      <td>0</td>\n",
       "      <td>0</td>\n",
       "      <td>Dermatologist</td>\n",
       "      <td>0</td>\n",
       "      <td>0.0</td>\n",
       "      <td>0</td>\n",
       "      <td>dont know</td>\n",
       "    </tr>\n",
       "    <tr>\n",
       "      <th>2</th>\n",
       "      <td>axt00001</td>\n",
       "      <td>20190118</td>\n",
       "      <td>0.0</td>\n",
       "      <td>6.16010</td>\n",
       "      <td>1</td>\n",
       "      <td>0</td>\n",
       "      <td>3-Low</td>\n",
       "      <td>0</td>\n",
       "      <td>0</td>\n",
       "      <td>0</td>\n",
       "      <td>Dermatologist</td>\n",
       "      <td>0</td>\n",
       "      <td>0.0</td>\n",
       "      <td>0</td>\n",
       "      <td>dont know</td>\n",
       "    </tr>\n",
       "    <tr>\n",
       "      <th>3</th>\n",
       "      <td>axt00001</td>\n",
       "      <td>20190125</td>\n",
       "      <td>0.0</td>\n",
       "      <td>8.95501</td>\n",
       "      <td>1</td>\n",
       "      <td>5</td>\n",
       "      <td>3-Low</td>\n",
       "      <td>0</td>\n",
       "      <td>0</td>\n",
       "      <td>0</td>\n",
       "      <td>Dermatologist</td>\n",
       "      <td>0</td>\n",
       "      <td>0.0</td>\n",
       "      <td>0</td>\n",
       "      <td>dont know</td>\n",
       "    </tr>\n",
       "    <tr>\n",
       "      <th>4</th>\n",
       "      <td>axt00001</td>\n",
       "      <td>20190201</td>\n",
       "      <td>0.0</td>\n",
       "      <td>9.13793</td>\n",
       "      <td>1</td>\n",
       "      <td>0</td>\n",
       "      <td>3-Low</td>\n",
       "      <td>0</td>\n",
       "      <td>0</td>\n",
       "      <td>0</td>\n",
       "      <td>Dermatologist</td>\n",
       "      <td>0</td>\n",
       "      <td>0.0</td>\n",
       "      <td>0</td>\n",
       "      <td>dont know</td>\n",
       "    </tr>\n",
       "  </tbody>\n",
       "</table>\n",
       "</div>"
      ],
      "text/plain": [
       "  Physician_ID  Time_Period  Brand_Rx  Market_Rx  Sales_Rep_Calls  \\\n",
       "0     axt00001     20190104       0.0    2.80567                1   \n",
       "1     axt00001     20190111       0.0   20.57312                1   \n",
       "2     axt00001     20190118       0.0    6.16010                1   \n",
       "3     axt00001     20190125       0.0    8.95501                1   \n",
       "4     axt00001     20190201       0.0    9.13793                1   \n",
       "\n",
       "   Samples_Dropped Physician_Segment  Emails_Delivered  \\\n",
       "0                0             3-Low                 0   \n",
       "1                0             3-Low                 0   \n",
       "2                0             3-Low                 0   \n",
       "3                5             3-Low                 0   \n",
       "4                0             3-Low                 0   \n",
       "\n",
       "   Speaker_Programs_Attended  Vouchers_Dropped      Specialty  Mean  \\\n",
       "0                          0                 0  Dermatologist     0   \n",
       "1                          0                 0  Dermatologist     0   \n",
       "2                          0                 0  Dermatologist     0   \n",
       "3                          0                 0  Dermatologist     0   \n",
       "4                          0                 0  Dermatologist     0   \n",
       "\n",
       "   Year_of_birth  No_of_visits     Gender  \n",
       "0            0.0             0  dont know  \n",
       "1            0.0             0  dont know  \n",
       "2            0.0             0  dont know  \n",
       "3            0.0             0  dont know  \n",
       "4            0.0             0  dont know  "
      ]
     },
     "execution_count": 43,
     "metadata": {},
     "output_type": "execute_result"
    }
   ],
   "source": [
    "hcp.head()"
   ]
  },
  {
   "cell_type": "code",
   "execution_count": 44,
   "metadata": {
    "colab": {
     "base_uri": "https://localhost:8080/"
    },
    "id": "d-9I9xhl_wLQ",
    "outputId": "9d4f76cf-4f74-49f2-9ee6-85b4d273f433"
   },
   "outputs": [
    {
     "data": {
      "text/plain": [
       "213836"
      ]
     },
     "execution_count": 44,
     "metadata": {},
     "output_type": "execute_result"
    }
   ],
   "source": [
    "(hcp.No_of_visits!=0).sum()"
   ]
  },
  {
   "cell_type": "code",
   "execution_count": 45,
   "metadata": {
    "colab": {
     "base_uri": "https://localhost:8080/"
    },
    "id": "NFjlzQnl_wIg",
    "outputId": "9e7ef6de-6f2f-4e50-b9d1-921fb50c5d67"
   },
   "outputs": [
    {
     "data": {
      "text/plain": [
       "724324"
      ]
     },
     "execution_count": 45,
     "metadata": {},
     "output_type": "execute_result"
    }
   ],
   "source": [
    "len(patient)"
   ]
  },
  {
   "cell_type": "code",
   "execution_count": 46,
   "metadata": {
    "colab": {
     "base_uri": "https://localhost:8080/",
     "height": 424
    },
    "id": "JhNFrfwb_wF0",
    "outputId": "4d4f7e80-e9c5-4d4e-de03-39a2c3ba7118"
   },
   "outputs": [
    {
     "data": {
      "text/html": [
       "<div>\n",
       "<style scoped>\n",
       "    .dataframe tbody tr th:only-of-type {\n",
       "        vertical-align: middle;\n",
       "    }\n",
       "\n",
       "    .dataframe tbody tr th {\n",
       "        vertical-align: top;\n",
       "    }\n",
       "\n",
       "    .dataframe thead th {\n",
       "        text-align: right;\n",
       "    }\n",
       "</style>\n",
       "<table border=\"1\" class=\"dataframe\">\n",
       "  <thead>\n",
       "    <tr style=\"text-align: right;\">\n",
       "      <th></th>\n",
       "      <th>Patient ID</th>\n",
       "      <th>Physician_ID</th>\n",
       "      <th>Date_of_Visit</th>\n",
       "      <th>Year of Birth</th>\n",
       "      <th>Gender</th>\n",
       "      <th>Geographical_State</th>\n",
       "    </tr>\n",
       "  </thead>\n",
       "  <tbody>\n",
       "    <tr>\n",
       "      <th>315743</th>\n",
       "      <td>35335</td>\n",
       "      <td>axt00010</td>\n",
       "      <td>20190908</td>\n",
       "      <td>1967.0</td>\n",
       "      <td>F</td>\n",
       "      <td>GA</td>\n",
       "    </tr>\n",
       "    <tr>\n",
       "      <th>315744</th>\n",
       "      <td>35335</td>\n",
       "      <td>axt00010</td>\n",
       "      <td>20190327</td>\n",
       "      <td>1967.0</td>\n",
       "      <td>F</td>\n",
       "      <td>GA</td>\n",
       "    </tr>\n",
       "    <tr>\n",
       "      <th>315745</th>\n",
       "      <td>35335</td>\n",
       "      <td>axt00010</td>\n",
       "      <td>20190308</td>\n",
       "      <td>1967.0</td>\n",
       "      <td>F</td>\n",
       "      <td>GA</td>\n",
       "    </tr>\n",
       "    <tr>\n",
       "      <th>315746</th>\n",
       "      <td>35335</td>\n",
       "      <td>axt00010</td>\n",
       "      <td>20200128</td>\n",
       "      <td>1967.0</td>\n",
       "      <td>F</td>\n",
       "      <td>GA</td>\n",
       "    </tr>\n",
       "    <tr>\n",
       "      <th>315747</th>\n",
       "      <td>35335</td>\n",
       "      <td>axt00010</td>\n",
       "      <td>20190615</td>\n",
       "      <td>1967.0</td>\n",
       "      <td>F</td>\n",
       "      <td>GA</td>\n",
       "    </tr>\n",
       "    <tr>\n",
       "      <th>...</th>\n",
       "      <td>...</td>\n",
       "      <td>...</td>\n",
       "      <td>...</td>\n",
       "      <td>...</td>\n",
       "      <td>...</td>\n",
       "      <td>...</td>\n",
       "    </tr>\n",
       "    <tr>\n",
       "      <th>316025</th>\n",
       "      <td>10923</td>\n",
       "      <td>axt00010</td>\n",
       "      <td>20190915</td>\n",
       "      <td>1945.0</td>\n",
       "      <td>M</td>\n",
       "      <td>ME</td>\n",
       "    </tr>\n",
       "    <tr>\n",
       "      <th>316026</th>\n",
       "      <td>10923</td>\n",
       "      <td>axt00010</td>\n",
       "      <td>20190719</td>\n",
       "      <td>1945.0</td>\n",
       "      <td>M</td>\n",
       "      <td>ME</td>\n",
       "    </tr>\n",
       "    <tr>\n",
       "      <th>316027</th>\n",
       "      <td>10923</td>\n",
       "      <td>axt00010</td>\n",
       "      <td>20190720</td>\n",
       "      <td>1945.0</td>\n",
       "      <td>M</td>\n",
       "      <td>ME</td>\n",
       "    </tr>\n",
       "    <tr>\n",
       "      <th>316028</th>\n",
       "      <td>10923</td>\n",
       "      <td>axt00010</td>\n",
       "      <td>20190924</td>\n",
       "      <td>1945.0</td>\n",
       "      <td>M</td>\n",
       "      <td>ME</td>\n",
       "    </tr>\n",
       "    <tr>\n",
       "      <th>316029</th>\n",
       "      <td>10923</td>\n",
       "      <td>axt00010</td>\n",
       "      <td>20190228</td>\n",
       "      <td>1945.0</td>\n",
       "      <td>M</td>\n",
       "      <td>ME</td>\n",
       "    </tr>\n",
       "  </tbody>\n",
       "</table>\n",
       "<p>287 rows × 6 columns</p>\n",
       "</div>"
      ],
      "text/plain": [
       "        Patient ID Physician_ID  Date_of_Visit  Year of Birth Gender  \\\n",
       "315743       35335     axt00010       20190908         1967.0      F   \n",
       "315744       35335     axt00010       20190327         1967.0      F   \n",
       "315745       35335     axt00010       20190308         1967.0      F   \n",
       "315746       35335     axt00010       20200128         1967.0      F   \n",
       "315747       35335     axt00010       20190615         1967.0      F   \n",
       "...            ...          ...            ...            ...    ...   \n",
       "316025       10923     axt00010       20190915         1945.0      M   \n",
       "316026       10923     axt00010       20190719         1945.0      M   \n",
       "316027       10923     axt00010       20190720         1945.0      M   \n",
       "316028       10923     axt00010       20190924         1945.0      M   \n",
       "316029       10923     axt00010       20190228         1945.0      M   \n",
       "\n",
       "       Geographical_State  \n",
       "315743                 GA  \n",
       "315744                 GA  \n",
       "315745                 GA  \n",
       "315746                 GA  \n",
       "315747                 GA  \n",
       "...                   ...  \n",
       "316025                 ME  \n",
       "316026                 ME  \n",
       "316027                 ME  \n",
       "316028                 ME  \n",
       "316029                 ME  \n",
       "\n",
       "[287 rows x 6 columns]"
      ]
     },
     "execution_count": 46,
     "metadata": {},
     "output_type": "execute_result"
    }
   ],
   "source": [
    "patient[patient[\"Physician_ID\"]==\"axt00010\"]"
   ]
  },
  {
   "cell_type": "code",
   "execution_count": 47,
   "metadata": {
    "colab": {
     "base_uri": "https://localhost:8080/",
     "height": 1000
    },
    "id": "-DP96KYT_wDf",
    "outputId": "96a68dc2-34e4-4dad-e6b6-308aa34857b3"
   },
   "outputs": [
    {
     "data": {
      "text/html": [
       "<div>\n",
       "<style scoped>\n",
       "    .dataframe tbody tr th:only-of-type {\n",
       "        vertical-align: middle;\n",
       "    }\n",
       "\n",
       "    .dataframe tbody tr th {\n",
       "        vertical-align: top;\n",
       "    }\n",
       "\n",
       "    .dataframe thead th {\n",
       "        text-align: right;\n",
       "    }\n",
       "</style>\n",
       "<table border=\"1\" class=\"dataframe\">\n",
       "  <thead>\n",
       "    <tr style=\"text-align: right;\">\n",
       "      <th></th>\n",
       "      <th>Physician_ID</th>\n",
       "      <th>Time_Period</th>\n",
       "      <th>Brand_Rx</th>\n",
       "      <th>Market_Rx</th>\n",
       "      <th>Sales_Rep_Calls</th>\n",
       "      <th>Samples_Dropped</th>\n",
       "      <th>Physician_Segment</th>\n",
       "      <th>Emails_Delivered</th>\n",
       "      <th>Speaker_Programs_Attended</th>\n",
       "      <th>Vouchers_Dropped</th>\n",
       "      <th>Specialty</th>\n",
       "      <th>Mean</th>\n",
       "      <th>Year_of_birth</th>\n",
       "      <th>No_of_visits</th>\n",
       "      <th>Gender</th>\n",
       "    </tr>\n",
       "  </thead>\n",
       "  <tbody>\n",
       "    <tr>\n",
       "      <th>0</th>\n",
       "      <td>axt00001</td>\n",
       "      <td>20190104</td>\n",
       "      <td>0.0</td>\n",
       "      <td>2.80567</td>\n",
       "      <td>1</td>\n",
       "      <td>0</td>\n",
       "      <td>3-Low</td>\n",
       "      <td>0</td>\n",
       "      <td>0</td>\n",
       "      <td>0</td>\n",
       "      <td>Dermatologist</td>\n",
       "      <td>0</td>\n",
       "      <td>0.0</td>\n",
       "      <td>0</td>\n",
       "      <td>dont know</td>\n",
       "    </tr>\n",
       "    <tr>\n",
       "      <th>1</th>\n",
       "      <td>axt00001</td>\n",
       "      <td>20190111</td>\n",
       "      <td>0.0</td>\n",
       "      <td>20.57312</td>\n",
       "      <td>1</td>\n",
       "      <td>0</td>\n",
       "      <td>3-Low</td>\n",
       "      <td>0</td>\n",
       "      <td>0</td>\n",
       "      <td>0</td>\n",
       "      <td>Dermatologist</td>\n",
       "      <td>0</td>\n",
       "      <td>0.0</td>\n",
       "      <td>0</td>\n",
       "      <td>dont know</td>\n",
       "    </tr>\n",
       "    <tr>\n",
       "      <th>2</th>\n",
       "      <td>axt00001</td>\n",
       "      <td>20190118</td>\n",
       "      <td>0.0</td>\n",
       "      <td>6.16010</td>\n",
       "      <td>1</td>\n",
       "      <td>0</td>\n",
       "      <td>3-Low</td>\n",
       "      <td>0</td>\n",
       "      <td>0</td>\n",
       "      <td>0</td>\n",
       "      <td>Dermatologist</td>\n",
       "      <td>0</td>\n",
       "      <td>0.0</td>\n",
       "      <td>0</td>\n",
       "      <td>dont know</td>\n",
       "    </tr>\n",
       "    <tr>\n",
       "      <th>3</th>\n",
       "      <td>axt00001</td>\n",
       "      <td>20190125</td>\n",
       "      <td>0.0</td>\n",
       "      <td>8.95501</td>\n",
       "      <td>1</td>\n",
       "      <td>5</td>\n",
       "      <td>3-Low</td>\n",
       "      <td>0</td>\n",
       "      <td>0</td>\n",
       "      <td>0</td>\n",
       "      <td>Dermatologist</td>\n",
       "      <td>0</td>\n",
       "      <td>0.0</td>\n",
       "      <td>0</td>\n",
       "      <td>dont know</td>\n",
       "    </tr>\n",
       "    <tr>\n",
       "      <th>4</th>\n",
       "      <td>axt00001</td>\n",
       "      <td>20190201</td>\n",
       "      <td>0.0</td>\n",
       "      <td>9.13793</td>\n",
       "      <td>1</td>\n",
       "      <td>0</td>\n",
       "      <td>3-Low</td>\n",
       "      <td>0</td>\n",
       "      <td>0</td>\n",
       "      <td>0</td>\n",
       "      <td>Dermatologist</td>\n",
       "      <td>0</td>\n",
       "      <td>0.0</td>\n",
       "      <td>0</td>\n",
       "      <td>dont know</td>\n",
       "    </tr>\n",
       "  </tbody>\n",
       "</table>\n",
       "</div>"
      ],
      "text/plain": [
       "  Physician_ID  Time_Period  Brand_Rx  Market_Rx  Sales_Rep_Calls  \\\n",
       "0     axt00001     20190104       0.0    2.80567                1   \n",
       "1     axt00001     20190111       0.0   20.57312                1   \n",
       "2     axt00001     20190118       0.0    6.16010                1   \n",
       "3     axt00001     20190125       0.0    8.95501                1   \n",
       "4     axt00001     20190201       0.0    9.13793                1   \n",
       "\n",
       "   Samples_Dropped Physician_Segment  Emails_Delivered  \\\n",
       "0                0             3-Low                 0   \n",
       "1                0             3-Low                 0   \n",
       "2                0             3-Low                 0   \n",
       "3                5             3-Low                 0   \n",
       "4                0             3-Low                 0   \n",
       "\n",
       "   Speaker_Programs_Attended  Vouchers_Dropped      Specialty  Mean  \\\n",
       "0                          0                 0  Dermatologist     0   \n",
       "1                          0                 0  Dermatologist     0   \n",
       "2                          0                 0  Dermatologist     0   \n",
       "3                          0                 0  Dermatologist     0   \n",
       "4                          0                 0  Dermatologist     0   \n",
       "\n",
       "   Year_of_birth  No_of_visits     Gender  \n",
       "0            0.0             0  dont know  \n",
       "1            0.0             0  dont know  \n",
       "2            0.0             0  dont know  \n",
       "3            0.0             0  dont know  \n",
       "4            0.0             0  dont know  "
      ]
     },
     "execution_count": 47,
     "metadata": {},
     "output_type": "execute_result"
    }
   ],
   "source": [
    "hcp.head()"
   ]
  },
  {
   "cell_type": "code",
   "execution_count": 48,
   "metadata": {
    "colab": {
     "base_uri": "https://localhost:8080/"
    },
    "id": "eG1bgElzKWpu",
    "outputId": "3a97fbe2-a08a-4fd1-bd7f-8e6c3cbb4f07"
   },
   "outputs": [
    {
     "data": {
      "text/plain": [
       "724324"
      ]
     },
     "execution_count": 48,
     "metadata": {},
     "output_type": "execute_result"
    }
   ],
   "source": [
    "hcp.No_of_visits.sum()"
   ]
  },
  {
   "cell_type": "code",
   "execution_count": 49,
   "metadata": {
    "id": "SkVrmiqGKWmM"
   },
   "outputs": [],
   "source": [
    "del hcp[\"Mean\"]"
   ]
  },
  {
   "cell_type": "code",
   "execution_count": null,
   "metadata": {
    "colab": {
     "base_uri": "https://localhost:8080/"
    },
    "id": "9nP_fyf5BeUJ",
    "outputId": "ca936804-34cf-4108-eebe-fc1591660c0b"
   },
   "outputs": [],
   "source": []
  },
  {
   "cell_type": "code",
   "execution_count": 50,
   "metadata": {
    "id": "GBrkOvAvKTxc"
   },
   "outputs": [],
   "source": [
    "hcp.to_csv(\"hcp_modified_last_final.csv\")"
   ]
  },
  {
   "cell_type": "code",
   "execution_count": 51,
   "metadata": {
    "id": "PfKcYMwKKtUY"
   },
   "outputs": [
    {
     "data": {
      "text/plain": [
       "419210633.0"
      ]
     },
     "execution_count": 51,
     "metadata": {},
     "output_type": "execute_result"
    }
   ],
   "source": [
    "hcp.Year_of_birth.sum()"
   ]
  },
  {
   "cell_type": "code",
   "execution_count": 52,
   "metadata": {},
   "outputs": [
    {
     "data": {
      "text/html": [
       "<div>\n",
       "<style scoped>\n",
       "    .dataframe tbody tr th:only-of-type {\n",
       "        vertical-align: middle;\n",
       "    }\n",
       "\n",
       "    .dataframe tbody tr th {\n",
       "        vertical-align: top;\n",
       "    }\n",
       "\n",
       "    .dataframe thead th {\n",
       "        text-align: right;\n",
       "    }\n",
       "</style>\n",
       "<table border=\"1\" class=\"dataframe\">\n",
       "  <thead>\n",
       "    <tr style=\"text-align: right;\">\n",
       "      <th></th>\n",
       "      <th>Physician_ID</th>\n",
       "      <th>Time_Period</th>\n",
       "      <th>Brand_Rx</th>\n",
       "      <th>Market_Rx</th>\n",
       "      <th>Sales_Rep_Calls</th>\n",
       "      <th>Samples_Dropped</th>\n",
       "      <th>Physician_Segment</th>\n",
       "      <th>Emails_Delivered</th>\n",
       "      <th>Speaker_Programs_Attended</th>\n",
       "      <th>Vouchers_Dropped</th>\n",
       "      <th>Specialty</th>\n",
       "      <th>Year_of_birth</th>\n",
       "      <th>No_of_visits</th>\n",
       "      <th>Gender</th>\n",
       "    </tr>\n",
       "  </thead>\n",
       "  <tbody>\n",
       "    <tr>\n",
       "      <th>0</th>\n",
       "      <td>axt00001</td>\n",
       "      <td>20190104</td>\n",
       "      <td>0.0</td>\n",
       "      <td>2.80567</td>\n",
       "      <td>1</td>\n",
       "      <td>0</td>\n",
       "      <td>3-Low</td>\n",
       "      <td>0</td>\n",
       "      <td>0</td>\n",
       "      <td>0</td>\n",
       "      <td>Dermatologist</td>\n",
       "      <td>0.0</td>\n",
       "      <td>0</td>\n",
       "      <td>dont know</td>\n",
       "    </tr>\n",
       "    <tr>\n",
       "      <th>1</th>\n",
       "      <td>axt00001</td>\n",
       "      <td>20190111</td>\n",
       "      <td>0.0</td>\n",
       "      <td>20.57312</td>\n",
       "      <td>1</td>\n",
       "      <td>0</td>\n",
       "      <td>3-Low</td>\n",
       "      <td>0</td>\n",
       "      <td>0</td>\n",
       "      <td>0</td>\n",
       "      <td>Dermatologist</td>\n",
       "      <td>0.0</td>\n",
       "      <td>0</td>\n",
       "      <td>dont know</td>\n",
       "    </tr>\n",
       "    <tr>\n",
       "      <th>2</th>\n",
       "      <td>axt00001</td>\n",
       "      <td>20190118</td>\n",
       "      <td>0.0</td>\n",
       "      <td>6.16010</td>\n",
       "      <td>1</td>\n",
       "      <td>0</td>\n",
       "      <td>3-Low</td>\n",
       "      <td>0</td>\n",
       "      <td>0</td>\n",
       "      <td>0</td>\n",
       "      <td>Dermatologist</td>\n",
       "      <td>0.0</td>\n",
       "      <td>0</td>\n",
       "      <td>dont know</td>\n",
       "    </tr>\n",
       "    <tr>\n",
       "      <th>3</th>\n",
       "      <td>axt00001</td>\n",
       "      <td>20190125</td>\n",
       "      <td>0.0</td>\n",
       "      <td>8.95501</td>\n",
       "      <td>1</td>\n",
       "      <td>5</td>\n",
       "      <td>3-Low</td>\n",
       "      <td>0</td>\n",
       "      <td>0</td>\n",
       "      <td>0</td>\n",
       "      <td>Dermatologist</td>\n",
       "      <td>0.0</td>\n",
       "      <td>0</td>\n",
       "      <td>dont know</td>\n",
       "    </tr>\n",
       "    <tr>\n",
       "      <th>4</th>\n",
       "      <td>axt00001</td>\n",
       "      <td>20190201</td>\n",
       "      <td>0.0</td>\n",
       "      <td>9.13793</td>\n",
       "      <td>1</td>\n",
       "      <td>0</td>\n",
       "      <td>3-Low</td>\n",
       "      <td>0</td>\n",
       "      <td>0</td>\n",
       "      <td>0</td>\n",
       "      <td>Dermatologist</td>\n",
       "      <td>0.0</td>\n",
       "      <td>0</td>\n",
       "      <td>dont know</td>\n",
       "    </tr>\n",
       "  </tbody>\n",
       "</table>\n",
       "</div>"
      ],
      "text/plain": [
       "  Physician_ID  Time_Period  Brand_Rx  Market_Rx  Sales_Rep_Calls  \\\n",
       "0     axt00001     20190104       0.0    2.80567                1   \n",
       "1     axt00001     20190111       0.0   20.57312                1   \n",
       "2     axt00001     20190118       0.0    6.16010                1   \n",
       "3     axt00001     20190125       0.0    8.95501                1   \n",
       "4     axt00001     20190201       0.0    9.13793                1   \n",
       "\n",
       "   Samples_Dropped Physician_Segment  Emails_Delivered  \\\n",
       "0                0             3-Low                 0   \n",
       "1                0             3-Low                 0   \n",
       "2                0             3-Low                 0   \n",
       "3                5             3-Low                 0   \n",
       "4                0             3-Low                 0   \n",
       "\n",
       "   Speaker_Programs_Attended  Vouchers_Dropped      Specialty  Year_of_birth  \\\n",
       "0                          0                 0  Dermatologist            0.0   \n",
       "1                          0                 0  Dermatologist            0.0   \n",
       "2                          0                 0  Dermatologist            0.0   \n",
       "3                          0                 0  Dermatologist            0.0   \n",
       "4                          0                 0  Dermatologist            0.0   \n",
       "\n",
       "   No_of_visits     Gender  \n",
       "0             0  dont know  \n",
       "1             0  dont know  \n",
       "2             0  dont know  \n",
       "3             0  dont know  \n",
       "4             0  dont know  "
      ]
     },
     "execution_count": 52,
     "metadata": {},
     "output_type": "execute_result"
    }
   ],
   "source": [
    "hcp.head()"
   ]
  },
  {
   "cell_type": "code",
   "execution_count": 53,
   "metadata": {},
   "outputs": [
    {
     "data": {
      "text/plain": [
       "213836"
      ]
     },
     "execution_count": 53,
     "metadata": {},
     "output_type": "execute_result"
    }
   ],
   "source": [
    "(hcp[\"Year_of_birth\"]!=0.0).sum()"
   ]
  },
  {
   "cell_type": "code",
   "execution_count": null,
   "metadata": {},
   "outputs": [],
   "source": []
  },
  {
   "cell_type": "code",
   "execution_count": null,
   "metadata": {},
   "outputs": [],
   "source": []
  },
  {
   "cell_type": "code",
   "execution_count": null,
   "metadata": {},
   "outputs": [],
   "source": []
  },
  {
   "cell_type": "code",
   "execution_count": null,
   "metadata": {},
   "outputs": [],
   "source": []
  },
  {
   "cell_type": "code",
   "execution_count": null,
   "metadata": {},
   "outputs": [],
   "source": []
  },
  {
   "cell_type": "code",
   "execution_count": null,
   "metadata": {},
   "outputs": [],
   "source": []
  },
  {
   "cell_type": "code",
   "execution_count": null,
   "metadata": {},
   "outputs": [],
   "source": []
  },
  {
   "cell_type": "code",
   "execution_count": null,
   "metadata": {},
   "outputs": [],
   "source": []
  },
  {
   "cell_type": "code",
   "execution_count": null,
   "metadata": {},
   "outputs": [],
   "source": []
  },
  {
   "cell_type": "code",
   "execution_count": null,
   "metadata": {},
   "outputs": [],
   "source": []
  },
  {
   "cell_type": "code",
   "execution_count": null,
   "metadata": {},
   "outputs": [],
   "source": []
  }
 ],
 "metadata": {
  "colab": {
   "provenance": []
  },
  "kernelspec": {
   "display_name": "Python 3 (ipykernel)",
   "language": "python",
   "name": "python3"
  },
  "language_info": {
   "codemirror_mode": {
    "name": "ipython",
    "version": 3
   },
   "file_extension": ".py",
   "mimetype": "text/x-python",
   "name": "python",
   "nbconvert_exporter": "python",
   "pygments_lexer": "ipython3",
   "version": "3.9.13"
  }
 },
 "nbformat": 4,
 "nbformat_minor": 1
}
